{
 "cells": [
  {
   "cell_type": "markdown",
   "metadata": {},
   "source": [
    "# Исследование гипотез для увеличения выручки и А/В-теста интернет-магазина\n",
    "\n",
    "**Проблема** - Вместе с отделом маркетинга подготовлен список гипотез для увеличения выручки.<p>\n",
    "**Задача** - Приоритизируйте гипотезы, запустите A/B-тест и проанализируйте результаты. <p>\n",
    "\n",
    "\n",
    "*Описание данных*<p>\n",
    "**Данные для первой части:**<p>\n",
    "Файл /datasets/hypothesis.csv. 9 гипотез по увеличению выручки интернет-магазина с указанными параметрами Reach, Impact, Confidence, Effort. <p>\n",
    "•\tHypothesis — краткое описание гипотезы;<p>\n",
    "•\tReach — охват пользователей по 10-балльной шкале;<p>\n",
    "•\tImpact — влияние на пользователей по 10-балльной шкале;<p>\n",
    "•\tConfidence — уверенность в гипотезе по 10-балльной шкале;<p>\n",
    "•\tEfforts — затраты ресурсов на проверку гипотезы по 10-балльной шкале. Чем больше значение Efforts, тем дороже проверка гипотезы.<p>\n",
    "    \n",
    "**Данные для второй части:**<p>\n",
    "    Вы провели A/B-тест и получили результаты, которые описаны в файлах /datasets/orders.csv и /datasets/visitors.csv.\n",
    "Файл /datasets/orders.csv.<p>\n",
    "•\ttransactionId — идентификатор заказа;<p>\n",
    "•\tvisitorId — идентификатор пользователя, совершившего заказ;<p>\n",
    "•\tdate — дата, когда был совершён заказ;<p>\n",
    "•\trevenue — выручка заказа;<p>\n",
    "•\tgroup — группа A/B-теста, в которую попал заказ.<p>\n",
    "Файл /datasets/visitors.csv.<p>\n",
    "•\tdate — дата;<p>\n",
    "•\tgroup — группа A/B-теста;<p>\n",
    "•\tvisitors — количество пользователей в указанную дату в указанной группе A/B-теста<p>\n"
   ]
  },
  {
   "cell_type": "markdown",
   "metadata": {},
   "source": [
    "**Содержание**<p>\n",
    "[Загрузка данных](#shag_1)<p>\n",
    "[Часть 1. Приоритизация гипотез.](#shag_2)<p>\n",
    "    [Применение фреймворк ICE для приоритизации гипотез.](#shag_2_1)<p>\n",
    "    [Примените фреймворк RICE для приоритизации гипотез.](#shag_2_1)<p>\n",
    "    [Укажите, как изменилась приоритизация гипотез при применении RICE вместо ICE.](#shag_2_3)<p>\n",
    "[Часть 2. Анализ A/B-теста.](#shag_3)<p>\n",
    "\t[Постройте график кумулятивной выручки по группам.](#shag_3_1)<p>\n",
    "\t[Постройте график кумулятивного среднего чека по группам.](#shag_3_2)<p>\n",
    "\t[Постройте график относительного изменения кумулятивного среднего чека группы B к группе A.](#shag_3_3)<p>\n",
    "\t[Постройте график кумулятивного среднего количества заказов на посетителя по группам.](#shag_3_4)<p>\n",
    "\t[Постройте график относительного изменения кумулятивного среднего количества заказов на посетителя группы B к группе A.](#shag_3_5)<p>\n",
    "\t[Постройте точечный график количества заказов по пользователям.](#shag_3_6)<p>\n",
    "\t[Посчитайте 95-й и 99-й перцентили количества заказов на пользователя.](#shag_3_7)<p>\n",
    "\t[Постройте точечный график стоимостей заказов.](#shag_3_8)<p>\n",
    "\t[Посчитайте 95-й и 99-й перцентили стоимости заказов.](#shag_3_9)<p>\n",
    "\t[Посчитайте статистическую значимость различий в среднем количестве заказов на посетителя между группами по «сырым» данным.](#shag_3_10)<p>\n",
    "\t[Посчитайте статистическую значимость различий в среднем чеке заказа между группами по «сырым» данным.](#shag_3_11)<p>\n",
    "\t[Посчитайте статистическую значимость различий в среднем количестве заказов на посетителя между группами по «очищенным» данным.](#shag_3_12)<p>\n",
    "\t[Посчитайте статистическую значимость различий в среднем чеке заказа между группами по «очищенным» данным.](#shag_3_13)<p>\n",
    "\t[Примите решение по результатам теста и объясните его.](#shag_3_14)<p>"
   ]
  },
  {
   "cell_type": "markdown",
   "metadata": {},
   "source": [
    "## Загрузка данных<a id='shag_1'></a>"
   ]
  },
  {
   "cell_type": "code",
   "execution_count": 1,
   "metadata": {},
   "outputs": [],
   "source": [
    "#загрузка библиотек\n",
    "import pandas as pd\n",
    "import numpy as np\n",
    "import math as mth\n",
    "import matplotlib.pyplot as plt\n",
    "from scipy import stats \n",
    "import datetime as dt\n",
    "pd.options.display.max_colwidth = 120"
   ]
  },
  {
   "cell_type": "code",
   "execution_count": 2,
   "metadata": {},
   "outputs": [],
   "source": [
    "#прочитаем файлы\n",
    "try:\n",
    "    hypothesis = pd.read_csv('/datasets/hypothesis.csv') #прочитаем файл hypothesis\n",
    "    orders = pd.read_csv('/datasets/hypothesis.csv') #прочитаем файл orders\n",
    "    visitors = pd.read_csv('/datasets/hypothesis.csv') #прочитаем файл vsitors\n",
    "except:\n",
    "    hypothesis = pd.read_csv('https://code.s3.yandex.net/datasets/hypothesis.csv') #прочитаем файл hypothesis\n",
    "    orders = pd.read_csv('https://code.s3.yandex.net/datasets/orders.csv') #прочитаем файл orders\n",
    "    visitors = pd.read_csv('https://code.s3.yandex.net/datasets/visitors.csv') #прочитаем файл visitors"
   ]
  },
  {
   "cell_type": "markdown",
   "metadata": {},
   "source": [
    "## Часть 1. Приоритизация гипотез.<a id='shag_2'></a>\n",
    "1.\tПримените фреймворк ICE для приоритизации гипотез. Отсортируйте их по убыванию приоритета.<p>\n",
    "2.\tПримените фреймворк RICE для приоритизации гипотез. Отсортируйте их по убыванию приоритета.<p>\n",
    "3.\tУкажите, как изменилась приоритизация гипотез при применении RICE вместо ICE. Объясните, почему так произошло.<p>\n"
   ]
  },
  {
   "cell_type": "code",
   "execution_count": 3,
   "metadata": {},
   "outputs": [
    {
     "data": {
      "text/html": [
       "<div>\n",
       "<style scoped>\n",
       "    .dataframe tbody tr th:only-of-type {\n",
       "        vertical-align: middle;\n",
       "    }\n",
       "\n",
       "    .dataframe tbody tr th {\n",
       "        vertical-align: top;\n",
       "    }\n",
       "\n",
       "    .dataframe thead th {\n",
       "        text-align: right;\n",
       "    }\n",
       "</style>\n",
       "<table border=\"1\" class=\"dataframe\">\n",
       "  <thead>\n",
       "    <tr style=\"text-align: right;\">\n",
       "      <th></th>\n",
       "      <th>Hypothesis</th>\n",
       "      <th>Reach</th>\n",
       "      <th>Impact</th>\n",
       "      <th>Confidence</th>\n",
       "      <th>Efforts</th>\n",
       "    </tr>\n",
       "  </thead>\n",
       "  <tbody>\n",
       "    <tr>\n",
       "      <th>0</th>\n",
       "      <td>Добавить два новых канала привлечения трафика, что позволит привлекать на 30% больше пользователей</td>\n",
       "      <td>3</td>\n",
       "      <td>10</td>\n",
       "      <td>8</td>\n",
       "      <td>6</td>\n",
       "    </tr>\n",
       "    <tr>\n",
       "      <th>1</th>\n",
       "      <td>Запустить собственную службу доставки, что сократит срок доставки заказов</td>\n",
       "      <td>2</td>\n",
       "      <td>5</td>\n",
       "      <td>4</td>\n",
       "      <td>10</td>\n",
       "    </tr>\n",
       "    <tr>\n",
       "      <th>2</th>\n",
       "      <td>Добавить блоки рекомендаций товаров на сайт интернет магазина, чтобы повысить конверсию и средний чек заказа</td>\n",
       "      <td>8</td>\n",
       "      <td>3</td>\n",
       "      <td>7</td>\n",
       "      <td>3</td>\n",
       "    </tr>\n",
       "    <tr>\n",
       "      <th>3</th>\n",
       "      <td>Изменить структура категорий, что увеличит конверсию, т.к. пользователи быстрее найдут нужный товар</td>\n",
       "      <td>8</td>\n",
       "      <td>3</td>\n",
       "      <td>3</td>\n",
       "      <td>8</td>\n",
       "    </tr>\n",
       "    <tr>\n",
       "      <th>4</th>\n",
       "      <td>Изменить цвет фона главной страницы, чтобы увеличить вовлеченность пользователей</td>\n",
       "      <td>3</td>\n",
       "      <td>1</td>\n",
       "      <td>1</td>\n",
       "      <td>1</td>\n",
       "    </tr>\n",
       "    <tr>\n",
       "      <th>5</th>\n",
       "      <td>Добавить страницу отзывов клиентов о магазине, что позволит увеличить количество заказов</td>\n",
       "      <td>3</td>\n",
       "      <td>2</td>\n",
       "      <td>2</td>\n",
       "      <td>3</td>\n",
       "    </tr>\n",
       "    <tr>\n",
       "      <th>6</th>\n",
       "      <td>Показать на главной странице баннеры с актуальными акциями и распродажами, чтобы увеличить конверсию</td>\n",
       "      <td>5</td>\n",
       "      <td>3</td>\n",
       "      <td>8</td>\n",
       "      <td>3</td>\n",
       "    </tr>\n",
       "    <tr>\n",
       "      <th>7</th>\n",
       "      <td>Добавить форму подписки на все основные страницы, чтобы собрать базу клиентов для email-рассылок</td>\n",
       "      <td>10</td>\n",
       "      <td>7</td>\n",
       "      <td>8</td>\n",
       "      <td>5</td>\n",
       "    </tr>\n",
       "    <tr>\n",
       "      <th>8</th>\n",
       "      <td>Запустить акцию, дающую скидку на товар в день рождения</td>\n",
       "      <td>1</td>\n",
       "      <td>9</td>\n",
       "      <td>9</td>\n",
       "      <td>5</td>\n",
       "    </tr>\n",
       "  </tbody>\n",
       "</table>\n",
       "</div>"
      ],
      "text/plain": [
       "                                                                                                     Hypothesis  \\\n",
       "0            Добавить два новых канала привлечения трафика, что позволит привлекать на 30% больше пользователей   \n",
       "1                                     Запустить собственную службу доставки, что сократит срок доставки заказов   \n",
       "2  Добавить блоки рекомендаций товаров на сайт интернет магазина, чтобы повысить конверсию и средний чек заказа   \n",
       "3           Изменить структура категорий, что увеличит конверсию, т.к. пользователи быстрее найдут нужный товар   \n",
       "4                              Изменить цвет фона главной страницы, чтобы увеличить вовлеченность пользователей   \n",
       "5                      Добавить страницу отзывов клиентов о магазине, что позволит увеличить количество заказов   \n",
       "6          Показать на главной странице баннеры с актуальными акциями и распродажами, чтобы увеличить конверсию   \n",
       "7              Добавить форму подписки на все основные страницы, чтобы собрать базу клиентов для email-рассылок   \n",
       "8                                                       Запустить акцию, дающую скидку на товар в день рождения   \n",
       "\n",
       "   Reach  Impact  Confidence  Efforts  \n",
       "0      3      10           8        6  \n",
       "1      2       5           4       10  \n",
       "2      8       3           7        3  \n",
       "3      8       3           3        8  \n",
       "4      3       1           1        1  \n",
       "5      3       2           2        3  \n",
       "6      5       3           8        3  \n",
       "7     10       7           8        5  \n",
       "8      1       9           9        5  "
      ]
     },
     "execution_count": 3,
     "metadata": {},
     "output_type": "execute_result"
    }
   ],
   "source": [
    "#посмотрим первые 10 строк файла с гипотезами\n",
    "hypothesis.head(10)"
   ]
  },
  {
   "cell_type": "code",
   "execution_count": 4,
   "metadata": {},
   "outputs": [
    {
     "name": "stdout",
     "output_type": "stream",
     "text": [
      "<class 'pandas.core.frame.DataFrame'>\n",
      "RangeIndex: 9 entries, 0 to 8\n",
      "Data columns (total 5 columns):\n",
      " #   Column      Non-Null Count  Dtype \n",
      "---  ------      --------------  ----- \n",
      " 0   Hypothesis  9 non-null      object\n",
      " 1   Reach       9 non-null      int64 \n",
      " 2   Impact      9 non-null      int64 \n",
      " 3   Confidence  9 non-null      int64 \n",
      " 4   Efforts     9 non-null      int64 \n",
      "dtypes: int64(4), object(1)\n",
      "memory usage: 488.0+ bytes\n"
     ]
    }
   ],
   "source": [
    "#посмотрим общую информацию о датафрейме\n",
    "hypothesis.info()"
   ]
  },
  {
   "cell_type": "markdown",
   "metadata": {},
   "source": [
    "Форматы данных корректны"
   ]
  },
  {
   "cell_type": "code",
   "execution_count": 5,
   "metadata": {},
   "outputs": [
    {
     "data": {
      "text/plain": [
       "Hypothesis    0\n",
       "Reach         0\n",
       "Impact        0\n",
       "Confidence    0\n",
       "Efforts       0\n",
       "dtype: int64"
      ]
     },
     "execution_count": 5,
     "metadata": {},
     "output_type": "execute_result"
    }
   ],
   "source": [
    "#проверим наличие пропуской\n",
    "hypothesis.isna().sum()"
   ]
  },
  {
   "cell_type": "markdown",
   "metadata": {},
   "source": [
    "Пропуски в датафрейме hypothesis отсутствуют"
   ]
  },
  {
   "cell_type": "code",
   "execution_count": 6,
   "metadata": {},
   "outputs": [
    {
     "data": {
      "text/plain": [
       "False    9\n",
       "dtype: int64"
      ]
     },
     "execution_count": 6,
     "metadata": {},
     "output_type": "execute_result"
    }
   ],
   "source": [
    "#проверим на дубликаты\n",
    "hypothesis.duplicated().value_counts()"
   ]
  },
  {
   "cell_type": "markdown",
   "metadata": {},
   "source": [
    "Дубликаты в hypothesis отсутствуют"
   ]
  },
  {
   "cell_type": "markdown",
   "metadata": {},
   "source": [
    "Вывод:\n",
    "В датафрейме hypothesis данные корректны, пропуски и дубликаты отсутствуют."
   ]
  },
  {
   "cell_type": "markdown",
   "metadata": {},
   "source": [
    "### Применение фреймворк ICE для приоритизации гипотез.<a id='shag_2_1'></a>\n",
    "Отсортируйте их по убыванию приоритета."
   ]
  },
  {
   "cell_type": "code",
   "execution_count": 7,
   "metadata": {
    "scrolled": true
   },
   "outputs": [
    {
     "data": {
      "text/html": [
       "<div>\n",
       "<style scoped>\n",
       "    .dataframe tbody tr th:only-of-type {\n",
       "        vertical-align: middle;\n",
       "    }\n",
       "\n",
       "    .dataframe tbody tr th {\n",
       "        vertical-align: top;\n",
       "    }\n",
       "\n",
       "    .dataframe thead th {\n",
       "        text-align: right;\n",
       "    }\n",
       "</style>\n",
       "<table border=\"1\" class=\"dataframe\">\n",
       "  <thead>\n",
       "    <tr style=\"text-align: right;\">\n",
       "      <th></th>\n",
       "      <th>Hypothesis</th>\n",
       "      <th>Reach</th>\n",
       "      <th>Impact</th>\n",
       "      <th>Confidence</th>\n",
       "      <th>Efforts</th>\n",
       "      <th>ICE</th>\n",
       "    </tr>\n",
       "  </thead>\n",
       "  <tbody>\n",
       "    <tr>\n",
       "      <th>8</th>\n",
       "      <td>Запустить акцию, дающую скидку на товар в день рождения</td>\n",
       "      <td>1</td>\n",
       "      <td>9</td>\n",
       "      <td>9</td>\n",
       "      <td>5</td>\n",
       "      <td>16.200000</td>\n",
       "    </tr>\n",
       "    <tr>\n",
       "      <th>0</th>\n",
       "      <td>Добавить два новых канала привлечения трафика, что позволит привлекать на 30% больше пользователей</td>\n",
       "      <td>3</td>\n",
       "      <td>10</td>\n",
       "      <td>8</td>\n",
       "      <td>6</td>\n",
       "      <td>13.333333</td>\n",
       "    </tr>\n",
       "    <tr>\n",
       "      <th>7</th>\n",
       "      <td>Добавить форму подписки на все основные страницы, чтобы собрать базу клиентов для email-рассылок</td>\n",
       "      <td>10</td>\n",
       "      <td>7</td>\n",
       "      <td>8</td>\n",
       "      <td>5</td>\n",
       "      <td>11.200000</td>\n",
       "    </tr>\n",
       "    <tr>\n",
       "      <th>6</th>\n",
       "      <td>Показать на главной странице баннеры с актуальными акциями и распродажами, чтобы увеличить конверсию</td>\n",
       "      <td>5</td>\n",
       "      <td>3</td>\n",
       "      <td>8</td>\n",
       "      <td>3</td>\n",
       "      <td>8.000000</td>\n",
       "    </tr>\n",
       "    <tr>\n",
       "      <th>2</th>\n",
       "      <td>Добавить блоки рекомендаций товаров на сайт интернет магазина, чтобы повысить конверсию и средний чек заказа</td>\n",
       "      <td>8</td>\n",
       "      <td>3</td>\n",
       "      <td>7</td>\n",
       "      <td>3</td>\n",
       "      <td>7.000000</td>\n",
       "    </tr>\n",
       "    <tr>\n",
       "      <th>1</th>\n",
       "      <td>Запустить собственную службу доставки, что сократит срок доставки заказов</td>\n",
       "      <td>2</td>\n",
       "      <td>5</td>\n",
       "      <td>4</td>\n",
       "      <td>10</td>\n",
       "      <td>2.000000</td>\n",
       "    </tr>\n",
       "    <tr>\n",
       "      <th>5</th>\n",
       "      <td>Добавить страницу отзывов клиентов о магазине, что позволит увеличить количество заказов</td>\n",
       "      <td>3</td>\n",
       "      <td>2</td>\n",
       "      <td>2</td>\n",
       "      <td>3</td>\n",
       "      <td>1.333333</td>\n",
       "    </tr>\n",
       "    <tr>\n",
       "      <th>3</th>\n",
       "      <td>Изменить структура категорий, что увеличит конверсию, т.к. пользователи быстрее найдут нужный товар</td>\n",
       "      <td>8</td>\n",
       "      <td>3</td>\n",
       "      <td>3</td>\n",
       "      <td>8</td>\n",
       "      <td>1.125000</td>\n",
       "    </tr>\n",
       "    <tr>\n",
       "      <th>4</th>\n",
       "      <td>Изменить цвет фона главной страницы, чтобы увеличить вовлеченность пользователей</td>\n",
       "      <td>3</td>\n",
       "      <td>1</td>\n",
       "      <td>1</td>\n",
       "      <td>1</td>\n",
       "      <td>1.000000</td>\n",
       "    </tr>\n",
       "  </tbody>\n",
       "</table>\n",
       "</div>"
      ],
      "text/plain": [
       "                                                                                                     Hypothesis  \\\n",
       "8                                                       Запустить акцию, дающую скидку на товар в день рождения   \n",
       "0            Добавить два новых канала привлечения трафика, что позволит привлекать на 30% больше пользователей   \n",
       "7              Добавить форму подписки на все основные страницы, чтобы собрать базу клиентов для email-рассылок   \n",
       "6          Показать на главной странице баннеры с актуальными акциями и распродажами, чтобы увеличить конверсию   \n",
       "2  Добавить блоки рекомендаций товаров на сайт интернет магазина, чтобы повысить конверсию и средний чек заказа   \n",
       "1                                     Запустить собственную службу доставки, что сократит срок доставки заказов   \n",
       "5                      Добавить страницу отзывов клиентов о магазине, что позволит увеличить количество заказов   \n",
       "3           Изменить структура категорий, что увеличит конверсию, т.к. пользователи быстрее найдут нужный товар   \n",
       "4                              Изменить цвет фона главной страницы, чтобы увеличить вовлеченность пользователей   \n",
       "\n",
       "   Reach  Impact  Confidence  Efforts        ICE  \n",
       "8      1       9           9        5  16.200000  \n",
       "0      3      10           8        6  13.333333  \n",
       "7     10       7           8        5  11.200000  \n",
       "6      5       3           8        3   8.000000  \n",
       "2      8       3           7        3   7.000000  \n",
       "1      2       5           4       10   2.000000  \n",
       "5      3       2           2        3   1.333333  \n",
       "3      8       3           3        8   1.125000  \n",
       "4      3       1           1        1   1.000000  "
      ]
     },
     "execution_count": 7,
     "metadata": {},
     "output_type": "execute_result"
    }
   ],
   "source": [
    "#добавим в датафрейм hypothesis столбец ICE\n",
    "hypothesis['ICE'] = (hypothesis['Impact'] * hypothesis['Confidence'])/hypothesis['Efforts']\n",
    "hypothesis.sort_values(by='ICE', ascending=False)"
   ]
  },
  {
   "cell_type": "markdown",
   "metadata": {},
   "source": [
    "Судя по фреймворку ICE наиболее перспектвные гипотезы 8, 0, 7."
   ]
  },
  {
   "cell_type": "markdown",
   "metadata": {},
   "source": [
    "### Примените фреймворк RICE для приоритизации гипотез.<a id='shag_2_2'></a>\n",
    "Отсортируйте их по убыванию приоритета."
   ]
  },
  {
   "cell_type": "code",
   "execution_count": 8,
   "metadata": {
    "scrolled": true
   },
   "outputs": [
    {
     "data": {
      "text/html": [
       "<div>\n",
       "<style scoped>\n",
       "    .dataframe tbody tr th:only-of-type {\n",
       "        vertical-align: middle;\n",
       "    }\n",
       "\n",
       "    .dataframe tbody tr th {\n",
       "        vertical-align: top;\n",
       "    }\n",
       "\n",
       "    .dataframe thead th {\n",
       "        text-align: right;\n",
       "    }\n",
       "</style>\n",
       "<table border=\"1\" class=\"dataframe\">\n",
       "  <thead>\n",
       "    <tr style=\"text-align: right;\">\n",
       "      <th></th>\n",
       "      <th>Hypothesis</th>\n",
       "      <th>Reach</th>\n",
       "      <th>Impact</th>\n",
       "      <th>Confidence</th>\n",
       "      <th>Efforts</th>\n",
       "      <th>ICE</th>\n",
       "      <th>RICE</th>\n",
       "    </tr>\n",
       "  </thead>\n",
       "  <tbody>\n",
       "    <tr>\n",
       "      <th>7</th>\n",
       "      <td>Добавить форму подписки на все основные страницы, чтобы собрать базу клиентов для email-рассылок</td>\n",
       "      <td>10</td>\n",
       "      <td>7</td>\n",
       "      <td>8</td>\n",
       "      <td>5</td>\n",
       "      <td>11.200000</td>\n",
       "      <td>112.0</td>\n",
       "    </tr>\n",
       "    <tr>\n",
       "      <th>2</th>\n",
       "      <td>Добавить блоки рекомендаций товаров на сайт интернет магазина, чтобы повысить конверсию и средний чек заказа</td>\n",
       "      <td>8</td>\n",
       "      <td>3</td>\n",
       "      <td>7</td>\n",
       "      <td>3</td>\n",
       "      <td>7.000000</td>\n",
       "      <td>56.0</td>\n",
       "    </tr>\n",
       "    <tr>\n",
       "      <th>0</th>\n",
       "      <td>Добавить два новых канала привлечения трафика, что позволит привлекать на 30% больше пользователей</td>\n",
       "      <td>3</td>\n",
       "      <td>10</td>\n",
       "      <td>8</td>\n",
       "      <td>6</td>\n",
       "      <td>13.333333</td>\n",
       "      <td>40.0</td>\n",
       "    </tr>\n",
       "    <tr>\n",
       "      <th>6</th>\n",
       "      <td>Показать на главной странице баннеры с актуальными акциями и распродажами, чтобы увеличить конверсию</td>\n",
       "      <td>5</td>\n",
       "      <td>3</td>\n",
       "      <td>8</td>\n",
       "      <td>3</td>\n",
       "      <td>8.000000</td>\n",
       "      <td>40.0</td>\n",
       "    </tr>\n",
       "    <tr>\n",
       "      <th>8</th>\n",
       "      <td>Запустить акцию, дающую скидку на товар в день рождения</td>\n",
       "      <td>1</td>\n",
       "      <td>9</td>\n",
       "      <td>9</td>\n",
       "      <td>5</td>\n",
       "      <td>16.200000</td>\n",
       "      <td>16.2</td>\n",
       "    </tr>\n",
       "    <tr>\n",
       "      <th>3</th>\n",
       "      <td>Изменить структура категорий, что увеличит конверсию, т.к. пользователи быстрее найдут нужный товар</td>\n",
       "      <td>8</td>\n",
       "      <td>3</td>\n",
       "      <td>3</td>\n",
       "      <td>8</td>\n",
       "      <td>1.125000</td>\n",
       "      <td>9.0</td>\n",
       "    </tr>\n",
       "    <tr>\n",
       "      <th>1</th>\n",
       "      <td>Запустить собственную службу доставки, что сократит срок доставки заказов</td>\n",
       "      <td>2</td>\n",
       "      <td>5</td>\n",
       "      <td>4</td>\n",
       "      <td>10</td>\n",
       "      <td>2.000000</td>\n",
       "      <td>4.0</td>\n",
       "    </tr>\n",
       "    <tr>\n",
       "      <th>5</th>\n",
       "      <td>Добавить страницу отзывов клиентов о магазине, что позволит увеличить количество заказов</td>\n",
       "      <td>3</td>\n",
       "      <td>2</td>\n",
       "      <td>2</td>\n",
       "      <td>3</td>\n",
       "      <td>1.333333</td>\n",
       "      <td>4.0</td>\n",
       "    </tr>\n",
       "    <tr>\n",
       "      <th>4</th>\n",
       "      <td>Изменить цвет фона главной страницы, чтобы увеличить вовлеченность пользователей</td>\n",
       "      <td>3</td>\n",
       "      <td>1</td>\n",
       "      <td>1</td>\n",
       "      <td>1</td>\n",
       "      <td>1.000000</td>\n",
       "      <td>3.0</td>\n",
       "    </tr>\n",
       "  </tbody>\n",
       "</table>\n",
       "</div>"
      ],
      "text/plain": [
       "                                                                                                     Hypothesis  \\\n",
       "7              Добавить форму подписки на все основные страницы, чтобы собрать базу клиентов для email-рассылок   \n",
       "2  Добавить блоки рекомендаций товаров на сайт интернет магазина, чтобы повысить конверсию и средний чек заказа   \n",
       "0            Добавить два новых канала привлечения трафика, что позволит привлекать на 30% больше пользователей   \n",
       "6          Показать на главной странице баннеры с актуальными акциями и распродажами, чтобы увеличить конверсию   \n",
       "8                                                       Запустить акцию, дающую скидку на товар в день рождения   \n",
       "3           Изменить структура категорий, что увеличит конверсию, т.к. пользователи быстрее найдут нужный товар   \n",
       "1                                     Запустить собственную службу доставки, что сократит срок доставки заказов   \n",
       "5                      Добавить страницу отзывов клиентов о магазине, что позволит увеличить количество заказов   \n",
       "4                              Изменить цвет фона главной страницы, чтобы увеличить вовлеченность пользователей   \n",
       "\n",
       "   Reach  Impact  Confidence  Efforts        ICE   RICE  \n",
       "7     10       7           8        5  11.200000  112.0  \n",
       "2      8       3           7        3   7.000000   56.0  \n",
       "0      3      10           8        6  13.333333   40.0  \n",
       "6      5       3           8        3   8.000000   40.0  \n",
       "8      1       9           9        5  16.200000   16.2  \n",
       "3      8       3           3        8   1.125000    9.0  \n",
       "1      2       5           4       10   2.000000    4.0  \n",
       "5      3       2           2        3   1.333333    4.0  \n",
       "4      3       1           1        1   1.000000    3.0  "
      ]
     },
     "execution_count": 8,
     "metadata": {},
     "output_type": "execute_result"
    }
   ],
   "source": [
    "#добавим в датафрейм hypothesis столбец RICE\n",
    "hypothesis['RICE'] = (hypothesis['Reach'] * hypothesis['Impact'] * hypothesis['Confidence'])/hypothesis['Efforts']\n",
    "hypothesis.sort_values(by='RICE', ascending=False)\n"
   ]
  },
  {
   "cell_type": "markdown",
   "metadata": {},
   "source": [
    "Судя по фрейморку RICE наиболее перспективные гипотезы 7, 2, 0, 6."
   ]
  },
  {
   "cell_type": "markdown",
   "metadata": {},
   "source": [
    "### Укажите, как изменилась приоритизация гипотез при применении RICE вместо ICE.<a id='shag_2_3'></a>\n",
    "Объясните, почему так произошло."
   ]
  },
  {
   "cell_type": "markdown",
   "metadata": {},
   "source": [
    "По фреймфорку ICE наиболее перспектвные гипотезы 8, 0, 7. \n",
    "А по фрейморку RICE наиболее перспективные гипотезы 7, 2, 0, 6. \n",
    "Приоритизация гипотез изменилась, т.к. при расчете фреймворка ICE не учитывался показатель Reach, отвечающий за охват пользователей, которых затронет изменение. Поэтому наиболее корректно будет рассматривать приоритизацию гипотез с помощью фреймворка RICE."
   ]
  },
  {
   "cell_type": "markdown",
   "metadata": {},
   "source": [
    "## Часть 2. Анализ A/B-теста. <a id='shag_3'></a>\n",
    "1.\tПостройте график кумулятивной выручки по группам. Сделайте выводы и предположения.<a id='shag_3_1'></a>\n",
    "2.\tПостройте график кумулятивного среднего чека по группам. Сделайте выводы и предположения.\n",
    "3.\tПостройте график относительного изменения кумулятивного среднего чека группы B к группе A. Сделайте выводы и предположения.\n",
    "4.\tПостройте график кумулятивного среднего количества заказов на посетителя по группам. Сделайте выводы и предположения.\n",
    "5.\tПостройте график относительного изменения кумулятивного среднего количества заказов на посетителя группы B к группе A. Сделайте выводы и предположения.\n",
    "6.\tПостройте точечный график количества заказов по пользователям. Сделайте выводы и предположения.\n",
    "7.\tПосчитайте 95-й и 99-й перцентили количества заказов на пользователя. Выберите границу для определения аномальных пользователей.\n",
    "8.\tПостройте точечный график стоимостей заказов. Сделайте выводы и предположения.\n",
    "9.\tПосчитайте 95-й и 99-й перцентили стоимости заказов. Выберите границу для определения аномальных заказов.\n",
    "10.\tПосчитайте статистическую значимость различий в среднем количестве заказов на посетителя между группами по «сырым» данным. Сделайте выводы и предположения.\n",
    "11.\tПосчитайте статистическую значимость различий в среднем чеке заказа между группами по «сырым» данным. Сделайте выводы и предположения.\n",
    "12.\tПосчитайте статистическую значимость различий в среднем количестве заказов на посетителя между группами по «очищенным» данным. Сделайте выводы и предположения.\n",
    "13.\tПосчитайте статистическую значимость различий в среднем чеке заказа между группами по «очищенным» данным. Сделайте выводы и предположения.\n",
    "14.\tПримите решение по результатам теста и объясните его. Варианты решений: 1. Остановить тест, зафиксировать победу одной из групп. 2. Остановить тест, зафиксировать отсутствие различий между группами. 3. Продолжить тест.\n"
   ]
  },
  {
   "cell_type": "code",
   "execution_count": 9,
   "metadata": {
    "scrolled": true
   },
   "outputs": [
    {
     "data": {
      "text/html": [
       "<div>\n",
       "<style scoped>\n",
       "    .dataframe tbody tr th:only-of-type {\n",
       "        vertical-align: middle;\n",
       "    }\n",
       "\n",
       "    .dataframe tbody tr th {\n",
       "        vertical-align: top;\n",
       "    }\n",
       "\n",
       "    .dataframe thead th {\n",
       "        text-align: right;\n",
       "    }\n",
       "</style>\n",
       "<table border=\"1\" class=\"dataframe\">\n",
       "  <thead>\n",
       "    <tr style=\"text-align: right;\">\n",
       "      <th></th>\n",
       "      <th>transactionId</th>\n",
       "      <th>visitorId</th>\n",
       "      <th>date</th>\n",
       "      <th>revenue</th>\n",
       "      <th>group</th>\n",
       "    </tr>\n",
       "  </thead>\n",
       "  <tbody>\n",
       "    <tr>\n",
       "      <th>0</th>\n",
       "      <td>3667963787</td>\n",
       "      <td>3312258926</td>\n",
       "      <td>2019-08-15</td>\n",
       "      <td>1650</td>\n",
       "      <td>B</td>\n",
       "    </tr>\n",
       "    <tr>\n",
       "      <th>1</th>\n",
       "      <td>2804400009</td>\n",
       "      <td>3642806036</td>\n",
       "      <td>2019-08-15</td>\n",
       "      <td>730</td>\n",
       "      <td>B</td>\n",
       "    </tr>\n",
       "    <tr>\n",
       "      <th>2</th>\n",
       "      <td>2961555356</td>\n",
       "      <td>4069496402</td>\n",
       "      <td>2019-08-15</td>\n",
       "      <td>400</td>\n",
       "      <td>A</td>\n",
       "    </tr>\n",
       "    <tr>\n",
       "      <th>3</th>\n",
       "      <td>3797467345</td>\n",
       "      <td>1196621759</td>\n",
       "      <td>2019-08-15</td>\n",
       "      <td>9759</td>\n",
       "      <td>B</td>\n",
       "    </tr>\n",
       "    <tr>\n",
       "      <th>4</th>\n",
       "      <td>2282983706</td>\n",
       "      <td>2322279887</td>\n",
       "      <td>2019-08-15</td>\n",
       "      <td>2308</td>\n",
       "      <td>B</td>\n",
       "    </tr>\n",
       "  </tbody>\n",
       "</table>\n",
       "</div>"
      ],
      "text/plain": [
       "   transactionId   visitorId        date  revenue group\n",
       "0     3667963787  3312258926  2019-08-15     1650     B\n",
       "1     2804400009  3642806036  2019-08-15      730     B\n",
       "2     2961555356  4069496402  2019-08-15      400     A\n",
       "3     3797467345  1196621759  2019-08-15     9759     B\n",
       "4     2282983706  2322279887  2019-08-15     2308     B"
      ]
     },
     "metadata": {},
     "output_type": "display_data"
    },
    {
     "data": {
      "text/html": [
       "<div>\n",
       "<style scoped>\n",
       "    .dataframe tbody tr th:only-of-type {\n",
       "        vertical-align: middle;\n",
       "    }\n",
       "\n",
       "    .dataframe tbody tr th {\n",
       "        vertical-align: top;\n",
       "    }\n",
       "\n",
       "    .dataframe thead th {\n",
       "        text-align: right;\n",
       "    }\n",
       "</style>\n",
       "<table border=\"1\" class=\"dataframe\">\n",
       "  <thead>\n",
       "    <tr style=\"text-align: right;\">\n",
       "      <th></th>\n",
       "      <th>date</th>\n",
       "      <th>group</th>\n",
       "      <th>visitors</th>\n",
       "    </tr>\n",
       "  </thead>\n",
       "  <tbody>\n",
       "    <tr>\n",
       "      <th>0</th>\n",
       "      <td>2019-08-01</td>\n",
       "      <td>A</td>\n",
       "      <td>719</td>\n",
       "    </tr>\n",
       "    <tr>\n",
       "      <th>1</th>\n",
       "      <td>2019-08-02</td>\n",
       "      <td>A</td>\n",
       "      <td>619</td>\n",
       "    </tr>\n",
       "    <tr>\n",
       "      <th>2</th>\n",
       "      <td>2019-08-03</td>\n",
       "      <td>A</td>\n",
       "      <td>507</td>\n",
       "    </tr>\n",
       "    <tr>\n",
       "      <th>3</th>\n",
       "      <td>2019-08-04</td>\n",
       "      <td>A</td>\n",
       "      <td>717</td>\n",
       "    </tr>\n",
       "    <tr>\n",
       "      <th>4</th>\n",
       "      <td>2019-08-05</td>\n",
       "      <td>A</td>\n",
       "      <td>756</td>\n",
       "    </tr>\n",
       "  </tbody>\n",
       "</table>\n",
       "</div>"
      ],
      "text/plain": [
       "         date group  visitors\n",
       "0  2019-08-01     A       719\n",
       "1  2019-08-02     A       619\n",
       "2  2019-08-03     A       507\n",
       "3  2019-08-04     A       717\n",
       "4  2019-08-05     A       756"
      ]
     },
     "execution_count": 9,
     "metadata": {},
     "output_type": "execute_result"
    }
   ],
   "source": [
    "#посмотрим первые 10 строк файла с заказами и посетителями\n",
    "\n",
    "display(orders.head(5))\n",
    "visitors.head(5)"
   ]
  },
  {
   "cell_type": "code",
   "execution_count": 10,
   "metadata": {
    "scrolled": true
   },
   "outputs": [
    {
     "name": "stdout",
     "output_type": "stream",
     "text": [
      "<class 'pandas.core.frame.DataFrame'>\n",
      "RangeIndex: 1197 entries, 0 to 1196\n",
      "Data columns (total 5 columns):\n",
      " #   Column         Non-Null Count  Dtype \n",
      "---  ------         --------------  ----- \n",
      " 0   transactionId  1197 non-null   int64 \n",
      " 1   visitorId      1197 non-null   int64 \n",
      " 2   date           1197 non-null   object\n",
      " 3   revenue        1197 non-null   int64 \n",
      " 4   group          1197 non-null   object\n",
      "dtypes: int64(3), object(2)\n",
      "memory usage: 46.9+ KB\n"
     ]
    },
    {
     "data": {
      "text/plain": [
       "None"
      ]
     },
     "metadata": {},
     "output_type": "display_data"
    },
    {
     "name": "stdout",
     "output_type": "stream",
     "text": [
      "<class 'pandas.core.frame.DataFrame'>\n",
      "RangeIndex: 62 entries, 0 to 61\n",
      "Data columns (total 3 columns):\n",
      " #   Column    Non-Null Count  Dtype \n",
      "---  ------    --------------  ----- \n",
      " 0   date      62 non-null     object\n",
      " 1   group     62 non-null     object\n",
      " 2   visitors  62 non-null     int64 \n",
      "dtypes: int64(1), object(2)\n",
      "memory usage: 1.6+ KB\n"
     ]
    }
   ],
   "source": [
    "#посмотрим общую информацию о датафрейме\n",
    "display(orders.info())\n",
    "visitors.info()"
   ]
  },
  {
   "cell_type": "markdown",
   "metadata": {},
   "source": [
    "В датафреймах с заказами и посетителями требуется поменять формат дат."
   ]
  },
  {
   "cell_type": "code",
   "execution_count": 11,
   "metadata": {},
   "outputs": [],
   "source": [
    "#поменяем формат дат\n",
    "orders['date'] = orders['date'].map(\n",
    "    lambda x: dt.datetime.strptime(x, '%Y-%m-%d')\n",
    ")\n",
    "\n",
    "visitors['date'] = visitors['date'].map(\n",
    "    lambda x: dt.datetime.strptime(x, '%Y-%m-%d')\n",
    ")"
   ]
  },
  {
   "cell_type": "code",
   "execution_count": 12,
   "metadata": {
    "scrolled": true
   },
   "outputs": [
    {
     "data": {
      "text/plain": [
       "dtype('<M8[ns]')"
      ]
     },
     "metadata": {},
     "output_type": "display_data"
    },
    {
     "data": {
      "text/plain": [
       "dtype('<M8[ns]')"
      ]
     },
     "execution_count": 12,
     "metadata": {},
     "output_type": "execute_result"
    }
   ],
   "source": [
    "# проверим смену формата\n",
    "display(orders['date'].dtypes)\n",
    "visitors['date'].dtypes\n"
   ]
  },
  {
   "cell_type": "markdown",
   "metadata": {},
   "source": [
    "Все корректно."
   ]
  },
  {
   "cell_type": "code",
   "execution_count": 13,
   "metadata": {
    "scrolled": true
   },
   "outputs": [
    {
     "data": {
      "text/plain": [
       "transactionId    0\n",
       "visitorId        0\n",
       "date             0\n",
       "revenue          0\n",
       "group            0\n",
       "dtype: int64"
      ]
     },
     "metadata": {},
     "output_type": "display_data"
    },
    {
     "data": {
      "text/plain": [
       "date        0\n",
       "group       0\n",
       "visitors    0\n",
       "dtype: int64"
      ]
     },
     "execution_count": 13,
     "metadata": {},
     "output_type": "execute_result"
    }
   ],
   "source": [
    "#проверим наличие пропусков\n",
    "display(orders.isna().sum())\n",
    "visitors.isna().sum()"
   ]
  },
  {
   "cell_type": "markdown",
   "metadata": {},
   "source": [
    "В датафреймах о заказах и посетелителях пропуски отсутствуют."
   ]
  },
  {
   "cell_type": "code",
   "execution_count": 14,
   "metadata": {
    "scrolled": true
   },
   "outputs": [
    {
     "data": {
      "text/plain": [
       "False    1197\n",
       "dtype: int64"
      ]
     },
     "metadata": {},
     "output_type": "display_data"
    },
    {
     "data": {
      "text/plain": [
       "False    62\n",
       "dtype: int64"
      ]
     },
     "execution_count": 14,
     "metadata": {},
     "output_type": "execute_result"
    }
   ],
   "source": [
    "#проверим на дубликаты\n",
    "display(orders.duplicated().value_counts())\n",
    "visitors.duplicated().value_counts()"
   ]
  },
  {
   "cell_type": "markdown",
   "metadata": {},
   "source": [
    "Дубликаты отстутствуют."
   ]
  },
  {
   "cell_type": "markdown",
   "metadata": {},
   "source": [
    "Вывод: В датафреймах orders и visitors был изменен формат дат. Пропуски и дубликаты отсутствуют."
   ]
  },
  {
   "cell_type": "markdown",
   "metadata": {},
   "source": [
    "### Постройте график кумулятивной выручки по группам.<a id='shag_3_1'></a>\n",
    "Сделайте выводы и предположения."
   ]
  },
  {
   "cell_type": "code",
   "execution_count": 15,
   "metadata": {},
   "outputs": [
    {
     "data": {
      "text/html": [
       "<div>\n",
       "<style scoped>\n",
       "    .dataframe tbody tr th:only-of-type {\n",
       "        vertical-align: middle;\n",
       "    }\n",
       "\n",
       "    .dataframe tbody tr th {\n",
       "        vertical-align: top;\n",
       "    }\n",
       "\n",
       "    .dataframe thead th {\n",
       "        text-align: right;\n",
       "    }\n",
       "</style>\n",
       "<table border=\"1\" class=\"dataframe\">\n",
       "  <thead>\n",
       "    <tr style=\"text-align: right;\">\n",
       "      <th></th>\n",
       "      <th>date</th>\n",
       "      <th>group</th>\n",
       "      <th>orders</th>\n",
       "      <th>buyers</th>\n",
       "      <th>revenue</th>\n",
       "      <th>visitors</th>\n",
       "    </tr>\n",
       "  </thead>\n",
       "  <tbody>\n",
       "    <tr>\n",
       "      <th>0</th>\n",
       "      <td>2019-08-01</td>\n",
       "      <td>A</td>\n",
       "      <td>24</td>\n",
       "      <td>20</td>\n",
       "      <td>148579</td>\n",
       "      <td>719</td>\n",
       "    </tr>\n",
       "    <tr>\n",
       "      <th>1</th>\n",
       "      <td>2019-08-01</td>\n",
       "      <td>B</td>\n",
       "      <td>21</td>\n",
       "      <td>20</td>\n",
       "      <td>101217</td>\n",
       "      <td>713</td>\n",
       "    </tr>\n",
       "    <tr>\n",
       "      <th>2</th>\n",
       "      <td>2019-08-02</td>\n",
       "      <td>A</td>\n",
       "      <td>44</td>\n",
       "      <td>38</td>\n",
       "      <td>242401</td>\n",
       "      <td>1338</td>\n",
       "    </tr>\n",
       "    <tr>\n",
       "      <th>3</th>\n",
       "      <td>2019-08-02</td>\n",
       "      <td>B</td>\n",
       "      <td>45</td>\n",
       "      <td>43</td>\n",
       "      <td>266748</td>\n",
       "      <td>1294</td>\n",
       "    </tr>\n",
       "    <tr>\n",
       "      <th>4</th>\n",
       "      <td>2019-08-03</td>\n",
       "      <td>A</td>\n",
       "      <td>68</td>\n",
       "      <td>62</td>\n",
       "      <td>354874</td>\n",
       "      <td>1845</td>\n",
       "    </tr>\n",
       "  </tbody>\n",
       "</table>\n",
       "</div>"
      ],
      "text/plain": [
       "        date group  orders  buyers  revenue  visitors\n",
       "0 2019-08-01     A      24      20   148579       719\n",
       "1 2019-08-01     B      21      20   101217       713\n",
       "2 2019-08-02     A      44      38   242401      1338\n",
       "3 2019-08-02     B      45      43   266748      1294\n",
       "4 2019-08-03     A      68      62   354874      1845"
      ]
     },
     "execution_count": 15,
     "metadata": {},
     "output_type": "execute_result"
    }
   ],
   "source": [
    "# создаем массив уникальных пар значений дат и групп \n",
    "datesGroups = orders[['date','group']].drop_duplicates()\n",
    "\n",
    "# получаем агрегированные кумулятивные по дням данные о заказах \n",
    "ordersAggregated = datesGroups.apply(\n",
    "    lambda x:orders\n",
    "    [\n",
    "        np.logical_and(orders['date'] <= x['date'], orders['group'] == x['group'])\n",
    "    ].agg({\n",
    "        'date':'max',\n",
    "        'group':'max',\n",
    "        'transactionId':'nunique',\n",
    "        'visitorId':'nunique',\n",
    "        'revenue':'sum'\n",
    "    }),axis=1\n",
    ").sort_values(by=['date','group'])\n",
    "\n",
    "# получаем агрегированные кумулятивные по дням данные о посетителях интернет-магазина\n",
    "visitorsAggregated = datesGroups.apply(\n",
    "    lambda x:visitors\n",
    "    [\n",
    "        np.logical_and(visitors['date'] <= x['date'], visitors['group'] == x['group'])\n",
    "    ].agg({\n",
    "        'date':'max', \n",
    "        'group':'max', \n",
    "        'visitors':'sum'}),axis=1\n",
    ").sort_values(by=['date','group'])\n",
    "\n",
    "# объединяем кумулятивные данные в одной таблице и переименовываем столбцы\n",
    "#orders - число уникальных заказов в группе теста по указанную дату включительно\n",
    "#buyers - число уникальных пользователей, совершивших хотя бы 1 заказ в группе теста по указанную дату включительно\n",
    "#revenue - суммарную выручку заказов в группе теста по указанную дату включительно\n",
    "#visitors - количество уникальных посетителей в группе теста по указанную дату включительно\n",
    "cumulativeData = ordersAggregated.merge(visitorsAggregated, left_on=['date','group'], right_on=['date','group'])\n",
    "cumulativeData.columns = ['date', 'group', 'orders', 'buyers', 'revenue', 'visitors']\n",
    "\n",
    "#посмотрим первые 5 строк\n",
    "cumulativeData.head(5)\n"
   ]
  },
  {
   "cell_type": "code",
   "execution_count": 16,
   "metadata": {},
   "outputs": [
    {
     "data": {
      "image/png": "[encoded data removed]",
      "text/plain": [
       "<Figure size 864x288 with 1 Axes>"
      ]
     },
     "metadata": {
      "needs_background": "light"
     },
     "output_type": "display_data"
    }
   ],
   "source": [
    "# датафрейм с кумулятивным количеством заказов и кумулятивной выручкой по дням в группе А\n",
    "cumulativeRevenueA = cumulativeData[cumulativeData['group']=='A'][['date','revenue', 'orders']]\n",
    "\n",
    "# датафрейм с кумулятивным количеством заказов и кумулятивной выручкой по дням в группе B\n",
    "cumulativeRevenueB = cumulativeData[cumulativeData['group']=='B'][['date','revenue', 'orders']]\n",
    "\n",
    "# Строим график выручки группы А\n",
    "plt.figure(figsize=(12,4))\n",
    "plt.plot(cumulativeRevenueA['date'], cumulativeRevenueA['revenue'], label='A')\n",
    "\n",
    "# Строим график выручки группы B\n",
    "plt.plot(cumulativeRevenueB['date'], cumulativeRevenueB['revenue'], label='B')\n",
    "\n",
    "plt.ylabel('Выручка')\n",
    "plt.xlabel('Дата')\n",
    "plt.title('График кумулятивной выручки по дням групп А и В')\n",
    "plt.legend()\n",
    "plt.show()"
   ]
  },
  {
   "cell_type": "markdown",
   "metadata": {},
   "source": [
    "Вывод:\n",
    "Как видно на графике выручки по дням групп А и В:\n",
    "- выручка группы В больше выручки группы А.\n",
    "- выручка увеличивается в течение всего теста.График группы А растет плавно. На графике группы В виден резкий скачок после которого график так и продолжает расти, возможно был всплеск числа заказов и пока он держится, либо появлись очень дорогие заказы в выборке, либо произошли какие-то изменения положительно влияющие на продажи."
   ]
  },
  {
   "cell_type": "markdown",
   "metadata": {},
   "source": [
    "### Постройте график кумулятивного среднего чека по группам.<a id='shag_3_2'></a>\n",
    "Сделайте выводы и предположения."
   ]
  },
  {
   "cell_type": "code",
   "execution_count": 17,
   "metadata": {},
   "outputs": [
    {
     "data": {
      "image/png": "[encoded data removed]",
      "text/plain": [
       "<Figure size 864x288 with 1 Axes>"
      ]
     },
     "metadata": {
      "needs_background": "light"
     },
     "output_type": "display_data"
    }
   ],
   "source": [
    "# строим график среднего чеко группы А\n",
    "plt.figure(figsize=(12,4))\n",
    "plt.plot(cumulativeRevenueA['date'], cumulativeRevenueA['revenue']/cumulativeRevenueA['orders'], label='A')\n",
    "\n",
    "# строим график среднего чеко группы B\n",
    "plt.plot(cumulativeRevenueB['date'], cumulativeRevenueB['revenue']/cumulativeRevenueB['orders'], label='B')\n",
    "\n",
    "\n",
    "plt.ylabel('Выручка')\n",
    "plt.xlabel('Дата')\n",
    "plt.title('График кумулятивного среднего чека по дням групп А и В')\n",
    "plt.legend()\n",
    "plt.show()"
   ]
  },
  {
   "cell_type": "markdown",
   "metadata": {},
   "source": [
    "Выводы:\n",
    "Как видно на графике кумулятивного среднего чека по дням групп А и В:\n",
    "- средний чек группы В больше чем средний чек группы А.\n",
    "- средний чек группы А становится более равномерным ближе к концу теста, на графике в середине теста был небольшой скачок - вероятнее всего какие-то крупные заказы.\n",
    "- средний чек группы В продолжает падать, на графике наблюдается резкий скачок, скорее всего в середине теста появились крупные заказы. Предполагаю, что группе В нужно больше данных чтобы прийти к реальному среднему чеку и установиться на его уровне.\n"
   ]
  },
  {
   "cell_type": "markdown",
   "metadata": {},
   "source": [
    "### Постройте график относительного изменения кумулятивного среднего чека группы B к группе A.<a id='shag_3_3'></a>\n",
    "Сделайте выводы и предположения.\n"
   ]
  },
  {
   "cell_type": "code",
   "execution_count": 18,
   "metadata": {},
   "outputs": [
    {
     "data": {
      "image/png": "[encoded data removed]",
      "text/plain": [
       "<Figure size 864x288 with 1 Axes>"
      ]
     },
     "metadata": {
      "needs_background": "light"
     },
     "output_type": "display_data"
    }
   ],
   "source": [
    "# собираем данные в одном датафрейме\n",
    "mergedCumulativeRevenue = cumulativeRevenueA.merge(\n",
    "    cumulativeRevenueB, left_on='date', right_on='date', how='left', suffixes=['A', 'B'])\n",
    "\n",
    "# cтроим отношение средних чеков\n",
    "plt.figure(figsize=(12,4))\n",
    "plt.plot(\n",
    "    mergedCumulativeRevenue['date'], \n",
    "    (mergedCumulativeRevenue['revenueB']/mergedCumulativeRevenue['ordersB'])\n",
    "    /(mergedCumulativeRevenue['revenueA']/mergedCumulativeRevenue['ordersA'])-1)\n",
    "\n",
    "# добавляем ось X\n",
    "plt.axhline(y=0, color='black', linestyle='--') \n",
    "\n",
    "plt.xlabel('Дата')\n",
    "plt.title('График относительного кумулятивного изменения среднего чека группы В к группе А')\n",
    "plt.show()"
   ]
  },
  {
   "cell_type": "markdown",
   "metadata": {},
   "source": [
    "Вывод:\n",
    "Как видно на графике относительного кумулятивного изменения среднего чека группы В к группе А, в нескольких точках график скачет, предполгаю, что это из-за крупных заказов и выбросов в эти даты."
   ]
  },
  {
   "cell_type": "markdown",
   "metadata": {},
   "source": [
    "### Постройте график кумулятивного среднего количества заказов на посетителя по группам.<a id='shag_3_4'></a> \n",
    "Сделайте выводы и предположения.\n"
   ]
  },
  {
   "cell_type": "code",
   "execution_count": 19,
   "metadata": {
    "scrolled": true
   },
   "outputs": [
    {
     "data": {
      "image/png": "[encoded data removed]",
      "text/plain": [
       "<Figure size 864x288 with 1 Axes>"
      ]
     },
     "metadata": {
      "needs_background": "light"
     },
     "output_type": "display_data"
    }
   ],
   "source": [
    "# считаем кумулятивное среднее количества заказов на посетителя по группам\n",
    "cumulativeData['conversion'] = cumulativeData['orders']/cumulativeData['visitors']\n",
    "\n",
    "# отделяем данные по группе A\n",
    "cumulativeDataA = cumulativeData[cumulativeData['group']=='A']\n",
    "\n",
    "# отделяем данные по группе B\n",
    "cumulativeDataB = cumulativeData[cumulativeData['group']=='B']\n",
    "\n",
    "# строим графики\n",
    "plt.figure(figsize=(12,4))\n",
    "plt.plot(cumulativeDataA['date'], cumulativeDataA['conversion'], label='A')\n",
    "plt.plot(cumulativeDataB['date'], cumulativeDataB['conversion'], label='B')\n",
    "plt.ylabel('Среднее число заказов')\n",
    "plt.xlabel('Дата')\n",
    "plt.title('График кумулятивного среднего количества заказов на посетителя по группам А и В')\n",
    "plt.legend()\n",
    "plt.show()"
   ]
  },
  {
   "cell_type": "markdown",
   "metadata": {},
   "source": [
    "Вывод:\n",
    "На графике кумулятивного среднего количества заказов на посетителя по группам А и В видно, что:\n",
    "- конверсия группы В выше чем конверсия группы А,\n",
    "- к концу теста колебания графиков незначительные. "
   ]
  },
  {
   "cell_type": "markdown",
   "metadata": {},
   "source": [
    "### Постройте график относительного изменения кумулятивного среднего количества заказов на посетителя группы B к группе A.<a id='shag_3_5'></a>\n",
    "Сделайте выводы и предположения.\n"
   ]
  },
  {
   "cell_type": "code",
   "execution_count": 20,
   "metadata": {},
   "outputs": [
    {
     "data": {
      "image/png": "[encoded data removed]",
      "text/plain": [
       "<Figure size 864x288 with 1 Axes>"
      ]
     },
     "metadata": {
      "needs_background": "light"
     },
     "output_type": "display_data"
    }
   ],
   "source": [
    "# собираем данные в одном датафрейме\n",
    "mergedCumulativeConversions = cumulativeDataA[['date','conversion']\n",
    "                                             ].merge(cumulativeDataB[['date','conversion']]\n",
    "                                                     , left_on='date', right_on='date', how='left', suffixes=['A', 'B'])\n",
    "# cтроим отношениz конверсии\n",
    "plt.figure(figsize=(12,4))\n",
    "plt.plot(mergedCumulativeConversions['date'], \n",
    "         mergedCumulativeConversions['conversionB']/mergedCumulativeConversions['conversionA']-1)\n",
    "\n",
    "plt.xlabel('Дата')\n",
    "plt.title('Относительный прирост конверсии группы B относительно группы A')\n",
    "plt.axhline(y=0, color='black', linestyle='--')\n",
    "plt.axhline(y=-0.1, color='grey', linestyle='--')\n",
    "plt.axhline(y=0.1, color='grey', linestyle='--')\n",
    "\n",
    "plt.show()"
   ]
  },
  {
   "cell_type": "markdown",
   "metadata": {},
   "source": [
    "Вывод:\n",
    "На графике относительного прироста конверсии группы В относительно группы А видно, что конверсия среднего количества заказов на посетителя выше у группы В, в самом начале теста были колебания, затем начиная с 2019-08-07 конверсия группы В стала лучше более чем на 10 %."
   ]
  },
  {
   "cell_type": "markdown",
   "metadata": {},
   "source": [
    "### Постройте точечный график количества заказов по пользователям.<a id='shag_3_6'></a>\n",
    "Сделайте выводы и предположения.\n"
   ]
  },
  {
   "cell_type": "code",
   "execution_count": 21,
   "metadata": {},
   "outputs": [
    {
     "data": {
      "text/html": [
       "<div>\n",
       "<style scoped>\n",
       "    .dataframe tbody tr th:only-of-type {\n",
       "        vertical-align: middle;\n",
       "    }\n",
       "\n",
       "    .dataframe tbody tr th {\n",
       "        vertical-align: top;\n",
       "    }\n",
       "\n",
       "    .dataframe thead th {\n",
       "        text-align: right;\n",
       "    }\n",
       "</style>\n",
       "<table border=\"1\" class=\"dataframe\">\n",
       "  <thead>\n",
       "    <tr style=\"text-align: right;\">\n",
       "      <th></th>\n",
       "      <th>visitorId</th>\n",
       "      <th>transaction</th>\n",
       "    </tr>\n",
       "  </thead>\n",
       "  <tbody>\n",
       "    <tr>\n",
       "      <th>1023</th>\n",
       "      <td>4256040402</td>\n",
       "      <td>11</td>\n",
       "    </tr>\n",
       "    <tr>\n",
       "      <th>591</th>\n",
       "      <td>2458001652</td>\n",
       "      <td>11</td>\n",
       "    </tr>\n",
       "    <tr>\n",
       "      <th>569</th>\n",
       "      <td>2378935119</td>\n",
       "      <td>9</td>\n",
       "    </tr>\n",
       "    <tr>\n",
       "      <th>487</th>\n",
       "      <td>2038680547</td>\n",
       "      <td>8</td>\n",
       "    </tr>\n",
       "    <tr>\n",
       "      <th>44</th>\n",
       "      <td>199603092</td>\n",
       "      <td>5</td>\n",
       "    </tr>\n",
       "  </tbody>\n",
       "</table>\n",
       "</div>"
      ],
      "text/plain": [
       "       visitorId  transaction\n",
       "1023  4256040402           11\n",
       "591   2458001652           11\n",
       "569   2378935119            9\n",
       "487   2038680547            8\n",
       "44     199603092            5"
      ]
     },
     "execution_count": 21,
     "metadata": {},
     "output_type": "execute_result"
    }
   ],
   "source": [
    "#подсчитаем количество заказов по пользователям\n",
    "ordersByUsers = (\n",
    "    orders.groupby('visitorId', as_index=False)\n",
    "    .agg({'transactionId': 'nunique'})\n",
    "    .sort_values(by='transactionId', ascending=False)\n",
    ")\n",
    "#переименуем столбцы\n",
    "ordersByUsers.columns = ['visitorId', 'transaction']\n",
    "ordersByUsers.head(5)"
   ]
  },
  {
   "cell_type": "code",
   "execution_count": 22,
   "metadata": {
    "scrolled": true
   },
   "outputs": [
    {
     "data": {
      "image/png": "[encoded data removed]",
      "text/plain": [
       "<Figure size 432x288 with 1 Axes>"
      ]
     },
     "metadata": {
      "needs_background": "light"
     },
     "output_type": "display_data"
    }
   ],
   "source": [
    "#построим гистрограмму распределения количества заказов на одного пользователя\n",
    "plt.hist(ordersByUsers['transaction'])\n",
    "plt.ylabel('Количество пользователей')\n",
    "plt.xlabel('Количество заказов пользователя')\n",
    "plt.title('Распределение количества заказов на одного пользователя')\n",
    "plt.show()"
   ]
  },
  {
   "cell_type": "markdown",
   "metadata": {},
   "source": [
    "Большинство пользователей покупают один раз, но есть и 10."
   ]
  },
  {
   "cell_type": "code",
   "execution_count": 23,
   "metadata": {},
   "outputs": [
    {
     "data": {
      "image/png": "[encoded data removed]",
      "text/plain": [
       "<Figure size 432x288 with 1 Axes>"
      ]
     },
     "metadata": {
      "needs_background": "light"
     },
     "output_type": "display_data"
    }
   ],
   "source": [
    "#построим точечную диаграмму числа заказов на одного пользователя\n",
    "x_values = pd.Series(range(0,len(ordersByUsers)))\n",
    "\n",
    "plt.scatter(x_values, ordersByUsers['transaction']) \n",
    "plt.ylabel('Количество заказов пользователя')\n",
    "plt.xlabel('Количество пользователей')\n",
    "plt.title('Точечная диаграмма числа заказов на одного пользователя')\n",
    "plt.show()"
   ]
  },
  {
   "cell_type": "markdown",
   "metadata": {},
   "source": [
    "Вывод:\n",
    "На гистограмме Распределение количества заказов на одного пользователя и диаграмме Точечная диаграмма числа заказов на одного пользователя видно, что большинство пользователей совершают один заказ, совсем немного пользователей совершают 2-3 заказа. Более 4-х заказов совершают единицы."
   ]
  },
  {
   "cell_type": "markdown",
   "metadata": {},
   "source": [
    "### Посчитайте 95-й и 99-й перцентили количества заказов на пользователя.<a id='shag_3_7'></a>\n",
    "Выберите границу для определения аномальных пользователей.\n"
   ]
  },
  {
   "cell_type": "code",
   "execution_count": 24,
   "metadata": {},
   "outputs": [
    {
     "name": "stdout",
     "output_type": "stream",
     "text": [
      "95-й перцентиль: 2.0 \n",
      "99-й перцентиль: 4.0\n"
     ]
    }
   ],
   "source": [
    "#посчитаем выборочные перцентили количества заказов на одного пользователя\n",
    "percentile = np.percentile(ordersByUsers['transaction'], [95, 99])\n",
    "print( '95-й перцентиль:', percentile[0],'\\n'  \n",
    "'99-й перцентиль:', percentile[1])\n",
    "\n"
   ]
  },
  {
   "cell_type": "markdown",
   "metadata": {},
   "source": [
    "Вывод:\n",
    "Не более 5% пользователей, совершивших заказ делают больше 2 заказов.\n",
    "Не более 1 %  пользователей, совершивших заказ делают больше 4 заказов."
   ]
  },
  {
   "cell_type": "markdown",
   "metadata": {},
   "source": [
    "### Постройте точечный график стоимостей заказов.<a id='shag_3_8'></a>\n",
    "Сделайте выводы и предположения.\n"
   ]
  },
  {
   "cell_type": "code",
   "execution_count": 25,
   "metadata": {
    "scrolled": true
   },
   "outputs": [
    {
     "data": {
      "text/html": [
       "<div>\n",
       "<style scoped>\n",
       "    .dataframe tbody tr th:only-of-type {\n",
       "        vertical-align: middle;\n",
       "    }\n",
       "\n",
       "    .dataframe tbody tr th {\n",
       "        vertical-align: top;\n",
       "    }\n",
       "\n",
       "    .dataframe thead th {\n",
       "        text-align: right;\n",
       "    }\n",
       "</style>\n",
       "<table border=\"1\" class=\"dataframe\">\n",
       "  <thead>\n",
       "    <tr style=\"text-align: right;\">\n",
       "      <th></th>\n",
       "      <th>transactionId</th>\n",
       "      <th>visitorId</th>\n",
       "      <th>date</th>\n",
       "      <th>revenue</th>\n",
       "      <th>group</th>\n",
       "    </tr>\n",
       "  </thead>\n",
       "  <tbody>\n",
       "    <tr>\n",
       "      <th>0</th>\n",
       "      <td>3667963787</td>\n",
       "      <td>3312258926</td>\n",
       "      <td>2019-08-15</td>\n",
       "      <td>1650</td>\n",
       "      <td>B</td>\n",
       "    </tr>\n",
       "    <tr>\n",
       "      <th>1</th>\n",
       "      <td>2804400009</td>\n",
       "      <td>3642806036</td>\n",
       "      <td>2019-08-15</td>\n",
       "      <td>730</td>\n",
       "      <td>B</td>\n",
       "    </tr>\n",
       "    <tr>\n",
       "      <th>2</th>\n",
       "      <td>2961555356</td>\n",
       "      <td>4069496402</td>\n",
       "      <td>2019-08-15</td>\n",
       "      <td>400</td>\n",
       "      <td>A</td>\n",
       "    </tr>\n",
       "    <tr>\n",
       "      <th>3</th>\n",
       "      <td>3797467345</td>\n",
       "      <td>1196621759</td>\n",
       "      <td>2019-08-15</td>\n",
       "      <td>9759</td>\n",
       "      <td>B</td>\n",
       "    </tr>\n",
       "    <tr>\n",
       "      <th>4</th>\n",
       "      <td>2282983706</td>\n",
       "      <td>2322279887</td>\n",
       "      <td>2019-08-15</td>\n",
       "      <td>2308</td>\n",
       "      <td>B</td>\n",
       "    </tr>\n",
       "  </tbody>\n",
       "</table>\n",
       "</div>"
      ],
      "text/plain": [
       "   transactionId   visitorId       date  revenue group\n",
       "0     3667963787  3312258926 2019-08-15     1650     B\n",
       "1     2804400009  3642806036 2019-08-15      730     B\n",
       "2     2961555356  4069496402 2019-08-15      400     A\n",
       "3     3797467345  1196621759 2019-08-15     9759     B\n",
       "4     2282983706  2322279887 2019-08-15     2308     B"
      ]
     },
     "execution_count": 25,
     "metadata": {},
     "output_type": "execute_result"
    }
   ],
   "source": [
    "orders.head()"
   ]
  },
  {
   "cell_type": "code",
   "execution_count": 26,
   "metadata": {},
   "outputs": [
    {
     "data": {
      "text/plain": [
       "1294500"
      ]
     },
     "execution_count": 26,
     "metadata": {},
     "output_type": "execute_result"
    }
   ],
   "source": [
    "orders['revenue'].max()"
   ]
  },
  {
   "cell_type": "code",
   "execution_count": 27,
   "metadata": {
    "scrolled": true
   },
   "outputs": [
    {
     "data": {
      "image/png": "[encoded data removed]",
      "text/plain": [
       "<Figure size 864x288 with 1 Axes>"
      ]
     },
     "metadata": {
      "needs_background": "light"
     },
     "output_type": "display_data"
    }
   ],
   "source": [
    "#построим гистрограмму распределения стоимости заказов на одного пользователя\n",
    "plt.figure(figsize=(12,4))\n",
    "plt.hist(orders['revenue'],bins=100,range=(0,125000)\n",
    "        )\n",
    "plt.ylabel('Количество пользователей')\n",
    "plt.xlabel('Выручка')\n",
    "plt.title('Распределение стоимости заказов на одного пользователя')\n",
    "plt.show()"
   ]
  },
  {
   "cell_type": "markdown",
   "metadata": {},
   "source": [
    "Большинство заказов находится в пределах до 20000."
   ]
  },
  {
   "cell_type": "code",
   "execution_count": 28,
   "metadata": {},
   "outputs": [
    {
     "data": {
      "image/png": "[encoded data removed]",
      "text/plain": [
       "<Figure size 864x288 with 1 Axes>"
      ]
     },
     "metadata": {
      "needs_background": "light"
     },
     "output_type": "display_data"
    }
   ],
   "source": [
    "#построим точечную диаграмму стоимости заказов на одного пользователя\n",
    "x_values = pd.Series(range(0,len(orders)))\n",
    "\n",
    "plt.figure(figsize=(12,4))\n",
    "\n",
    "plt.scatter(x_values, orders['revenue']) \n",
    "plt.axis([-10, 1300, 0, 200000])\n",
    "plt.ylabel('Выручка')\n",
    "plt.xlabel('Количество пользователей')\n",
    "plt.title('Точечная диаграмма стоимости заказов на одного пользователя')\n",
    "plt.show()"
   ]
  },
  {
   "cell_type": "markdown",
   "metadata": {},
   "source": [
    "Вывод:\n",
    "Как видно на  графиках Распределение стоимости заказов на одного пользователя и Точечная диаграмма стоимости заказов на одного пользователя большинство пользователей совершают заказ до 25000, заказов от 25000 до 40000 крайне мало."
   ]
  },
  {
   "cell_type": "markdown",
   "metadata": {},
   "source": [
    "### Посчитайте 95-й и 99-й перцентили стоимости заказов.<a id='shag_3_9'></a> \n",
    "Выберите границу для определения аномальных заказов.\n"
   ]
  },
  {
   "cell_type": "code",
   "execution_count": 29,
   "metadata": {},
   "outputs": [
    {
     "name": "stdout",
     "output_type": "stream",
     "text": [
      "95-й перцентиль: 28000.0 \n",
      "99-й перцентиль: 58233.2\n"
     ]
    }
   ],
   "source": [
    "#посчитаем выборочные перцентили стоимости заказов на одного пользователя\n",
    "percentile = np.percentile(orders['revenue'], [95, 99])\n",
    "print( '95-й перцентиль:', round(percentile[0],2),'\\n'  \n",
    "'99-й перцентиль:', round(percentile[1],2))\n"
   ]
  },
  {
   "cell_type": "markdown",
   "metadata": {},
   "source": [
    "Вывод:\n",
    "Не более чем у 5% заказовов чек дороже 28000.\n",
    "Не более чем у 1% заказов чек дороже 58233.2."
   ]
  },
  {
   "cell_type": "markdown",
   "metadata": {},
   "source": [
    "### Посчитайте статистическую значимость различий в среднем количестве заказов на посетителя между группами по «сырым» данным.<a id='shag_3_10'></a> \n",
    "Сделайте выводы и предположения.\n"
   ]
  },
  {
   "cell_type": "code",
   "execution_count": 30,
   "metadata": {},
   "outputs": [],
   "source": [
    "#создадим переменную, в которой сгруппируем количество пользователей по дням группа А\n",
    "visitorsADaily = visitors[visitors['group'] == 'A'][['date', 'visitors']]\n",
    "#переименуем столбцы\n",
    "visitorsADaily.columns = ['date', 'visitorsPerDateA']\n",
    "\n",
    "# получаем агрегированные кумулятивные по дням данные о пользователях \n",
    "visitorsACummulative = visitorsADaily.apply(\n",
    "    lambda x: visitorsADaily[visitorsADaily['date'] <= x['date']].agg(\n",
    "        {'date': 'max', 'visitorsPerDateA': 'sum'}\n",
    "    ),\n",
    "    axis=1,\n",
    ")\n",
    "#переименуем столбцы\n",
    "visitorsACummulative.columns = ['date', 'visitorsCummulativeA']\n",
    "\n",
    "#создадим переменную, в которой сгруппируем количество пользователей по дням группа В\n",
    "visitorsBDaily = visitors[visitors['group'] == 'B'][['date', 'visitors']]\n",
    "#переименуем столбцы\n",
    "visitorsBDaily.columns = ['date', 'visitorsPerDateB']\n",
    "\n",
    "# получаем агрегированные кумулятивные по дням данные о пользователях \n",
    "visitorsBCummulative = visitorsBDaily.apply(\n",
    "    lambda x: visitorsBDaily[visitorsBDaily['date'] <= x['date']].agg(\n",
    "        {'date': 'max', 'visitorsPerDateB': 'sum'}\n",
    "    ),\n",
    "    axis=1,\n",
    ")\n",
    "#переименуем столбцы\n",
    "visitorsBCummulative.columns = ['date', 'visitorsCummulativeB']\n",
    "\n",
    "#создадим переменную с количеством заказов и суммарной выручкой по дням, группа А\n",
    "ordersADaily = (\n",
    "    orders[orders['group'] == 'A'][['date', 'transactionId', 'visitorId', 'revenue']]\n",
    "    .groupby('date', as_index=False)\n",
    "    .agg({'transactionId': pd.Series.nunique, 'revenue': 'sum'})\n",
    "\n",
    ")\n",
    "ordersADaily.columns = ['date', 'ordersPerDateA', 'revenuePerDateA']\n",
    "\n",
    "# получаем агрегированные кумулятивные по дням данные суммарное число заказов до выбранной даты, \n",
    "#суммарная выручка до выбранной даты, группа А\n",
    "ordersACummulative = ordersADaily.apply(\n",
    "    lambda x: ordersADaily[ordersADaily['date'] <= x['date']].agg(\n",
    "        {'date': 'max', 'ordersPerDateA': 'sum', 'revenuePerDateA': 'sum'}\n",
    "    ),\n",
    "    axis=1,\n",
    ").sort_values(by=['date'])\n",
    "ordersACummulative.columns = [\n",
    "    'date',\n",
    "    'ordersCummulativeA',\n",
    "    'revenueCummulativeA',\n",
    "]\n",
    "#создадим переменную с количеством заказов и суммарной выручкой по дням, группа В\n",
    "ordersBDaily = (\n",
    "    orders[orders['group'] == 'B'][['date', 'transactionId', 'visitorId', 'revenue']]\n",
    "    .groupby('date', as_index=False)\n",
    "    .agg({'transactionId': pd.Series.nunique, 'revenue': 'sum'})\n",
    ")\n",
    "ordersBDaily.columns = ['date', 'ordersPerDateB', 'revenuePerDateB']\n",
    "# получаем агрегированные кумулятивные по дням данные суммарное число заказов до выбранной даты, \n",
    "#суммарная выручка до выбранной даты, группа B\n",
    "ordersBCummulative = ordersBDaily.apply(\n",
    "    lambda x: ordersBDaily[ordersBDaily['date'] <= x['date']].agg(\n",
    "        {'date': 'max', 'ordersPerDateB': 'sum', 'revenuePerDateB': 'sum'}\n",
    "    ),\n",
    "    axis=1,\n",
    "\n",
    ").sort_values(by=['date'])\n",
    "ordersBCummulative.columns = [\n",
    "    'date',\n",
    "    'ordersCummulativeB',\n",
    "    'revenueCummulativeB',\n",
    "]\n",
    "\n",
    "#объединим таблицы\n",
    "data = (\n",
    "    ordersADaily.merge(\n",
    "        ordersBDaily, left_on='date', right_on='date', how='left'\n",
    "    )\n",
    "    .merge(ordersACummulative, left_on='date', right_on='date', how='left')\n",
    "    .merge(ordersBCummulative, left_on='date', right_on='date', how='left')\n",
    "    .merge(visitorsADaily, left_on='date', right_on='date', how='left')\n",
    "    .merge(visitorsBDaily, left_on='date', right_on='date', how='left')\n",
    "    .merge(visitorsACummulative, left_on='date', right_on='date', how='left')\n",
    "    .merge(visitorsBCummulative, left_on='date', right_on='date', how='left')\n",
    ")\n"
   ]
  },
  {
   "cell_type": "code",
   "execution_count": 31,
   "metadata": {},
   "outputs": [],
   "source": [
    "# создадим переменну для пользователей, которые заказывали хотя бы 1 раз, укажем число совершённых заказов, по группе А\n",
    "ordersByUsersA = (\n",
    "    orders[orders['group'] == 'A']\n",
    "    .groupby('visitorId', as_index=False)\n",
    "    .agg({'transactionId': pd.Series.nunique})\n",
    ")\n",
    "#переименуем столбцы\n",
    "ordersByUsersA.columns = ['visitorId', 'transaction']\n",
    "\n",
    "\n",
    "# создадим переменную для пользователей, которые заказывали хотя бы 1 раз, укажем число совершённых заказов, по группе В\n",
    "ordersByUsersB = (\n",
    "    orders[orders['group'] == 'B']\n",
    "    .groupby('visitorId', as_index=False)\n",
    "    .agg({'transactionId': pd.Series.nunique})\n",
    ")\n",
    "#переименуем столбцы\n",
    "ordersByUsersB.columns = ['visitorId', 'transaction'] "
   ]
  },
  {
   "cell_type": "code",
   "execution_count": 32,
   "metadata": {
    "scrolled": true
   },
   "outputs": [
    {
     "name": "stdout",
     "output_type": "stream",
     "text": [
      "Количество пользователей группы А: 503 \n",
      "Количество покупок группы А: 557 \n",
      "Количество пользователей группы В: 586 \n",
      "Количество покупок группы В: 640 \n",
      "\n"
     ]
    }
   ],
   "source": [
    "print(\n",
    "    'Количество пользователей группы А:', ordersByUsersA['visitorId'].count(),'\\n'\n",
    "    'Количество покупок группы А:',ordersByUsersA['transaction'].sum(),'\\n'\n",
    "    'Количество пользователей группы В:', ordersByUsersB['visitorId'].count(),'\\n'\n",
    "    'Количество покупок группы В:',ordersByUsersB['transaction'].sum(),'\\n'\n",
    ")\n"
   ]
  },
  {
   "cell_type": "markdown",
   "metadata": {},
   "source": [
    "Нулевая гипотеза - среднее количество заказов на посетителя группы В  по \"сырым\" данным равно среднему количеству заказов на посетителя  группы А по \"сырым\" данным,\n",
    "\n",
    "Альтернативная гипотеза - среднее количество заказов на посетителя группы В по \"сырым\" данным не равно среднему количеству заказов на посетителя группы А по \"сырым\" данным."
   ]
  },
  {
   "cell_type": "code",
   "execution_count": 33,
   "metadata": {},
   "outputs": [
    {
     "name": "stdout",
     "output_type": "stream",
     "text": [
      "P-value: 0.017\n",
      "Отвергаем нулевую гипотезу: разница статистически значима(по \"сырым\" данным)\n",
      "Относительный прирост среднего группы В к конверсии группы А равен:0.138\n"
     ]
    }
   ],
   "source": [
    "#создадим переменные в которых пользователям из разных групп будет соответствовать количество заказов. \n",
    "#Тем, кто ничего не заказал, будут соответствовать нули. \n",
    "#для группы А\n",
    "sampleA = pd.concat(\n",
    "    [\n",
    "        ordersByUsersA['transaction'],\n",
    "        pd.Series(\n",
    "            0,\n",
    "            index=np.arange(\n",
    "                data['visitorsPerDateA'].sum() - len(ordersByUsersA['transaction'])\n",
    "            ),\n",
    "            name='orders',\n",
    "        ),\n",
    "    ],\n",
    "    axis=0,\n",
    ")\n",
    "\n",
    "#для группы В\n",
    "sampleB = pd.concat(\n",
    "    [\n",
    "        ordersByUsersB['transaction'],\n",
    "        pd.Series(\n",
    "            0,\n",
    "            index=np.arange(\n",
    "                data['visitorsPerDateB'].sum() - len(ordersByUsersB['transaction'])\n",
    "            ),\n",
    "            name='orders',\n",
    "        ),\n",
    "    ],\n",
    "    axis=0,\n",
    ")\n",
    "\n",
    "# критический уровень статистической значимости\n",
    "alpha = 0.05\n",
    "#применим метод Уилкоксона-Манна-Уитни\n",
    "results = stats.mannwhitneyu(sampleA, sampleB)\n",
    "\n",
    "print('P-value: {0:.3f}'.format(results.pvalue))\n",
    "\n",
    "if results.pvalue < alpha:\n",
    "      print('Отвергаем нулевую гипотезу: разница статистически значима(по \"сырым\" данным)')\n",
    "else:\n",
    "      print('Не получилось отвергнуть нулевую гипотезу, вывод о различии сделать нельзя(по \"сырым\" данным)')\n",
    "        \n",
    "print(\"Относительный прирост среднего группы В к конверсии группы А равен:{0:.3f}\".format(sampleB.mean() / sampleA.mean() - 1))"
   ]
  },
  {
   "cell_type": "markdown",
   "metadata": {},
   "source": [
    "Вывод: По \"сырым\" данным р-value 0.017 меньше уровня статистической значимости, поэтому нулевую гипотезу отвергаем. Анализ \"сырых\" данных показывает, что в среднем количестве заказов между группами есть статистически значимые различия. Относительный прирост среднего группы В к конверсии группы А составил 0.138 (13.8%).\n",
    "    "
   ]
  },
  {
   "cell_type": "markdown",
   "metadata": {},
   "source": [
    "### Посчитайте статистическую значимость различий в среднем чеке заказа между группами по «сырым» данным.<a id='shag_3_11'></a> \n",
    "Сделайте выводы и предположения.\n"
   ]
  },
  {
   "cell_type": "markdown",
   "metadata": {},
   "source": [
    "Нулевая гипотеза - средний чек заказа группы В  по \"сырым\" данным равен среднему чеку заказа группы А по \"сырым\" данным,\n",
    "\n",
    "Альтернативная гипотеза - средний чек заказа группы В по \"сырым\" данным не равен среднему чеку заказа группы А по \"сырым\" данным."
   ]
  },
  {
   "cell_type": "code",
   "execution_count": 34,
   "metadata": {},
   "outputs": [
    {
     "name": "stdout",
     "output_type": "stream",
     "text": [
      "P-value: 0.729\n",
      "Не получилось отвергнуть нулевую гипотезу, вывод о различии сделать нельзя(по \"сырым\" данным)\n",
      "Относительное различие среднего чека между сегментами равно:0.259\n"
     ]
    }
   ],
   "source": [
    "#применим метод Уилкоксона-Манна-Уитни\n",
    "results_revenue = stats.mannwhitneyu(orders[orders['group']=='A']['revenue'], orders[orders['group']=='B']['revenue'])\n",
    "\n",
    "print('P-value: {0:.3f}'.format(results_revenue.pvalue))\n",
    "\n",
    "if results_revenue.pvalue < alpha:\n",
    "      print('Отвергаем нулевую гипотезу: разница статистически значима(по \"сырым\" данным)')\n",
    "else:\n",
    "      print('Не получилось отвергнуть нулевую гипотезу, вывод о различии сделать нельзя(по \"сырым\" данным)')\n",
    "        \n",
    "        \n",
    "        \n",
    "print('Относительное различие среднего чека между сегментами равно:{0:.3f}'.\n",
    "      format(orders[orders['group']=='B']['revenue'].mean()/orders[orders['group']=='A']['revenue'].mean()-1))"
   ]
  },
  {
   "cell_type": "markdown",
   "metadata": {},
   "source": [
    "Вывод: По \"сырым\" данным р-value 0.729 больше уровня статистической значимости, поэтому нулевую гипотезу не отвергаем, статистически значимых отличий в среднем чеке между группами нет.\n",
    "Относительное различие среднего чека между сегментами составляет 0.259(25.9%) - средний чек группы В значительно выше среднего чека группы А."
   ]
  },
  {
   "cell_type": "markdown",
   "metadata": {},
   "source": [
    "### Посчитайте статистическую значимость различий в среднем количестве заказов на посетителя между группами по «очищенным» данным.<a id='shag_3_12'></a>\n",
    "Сделайте выводы и предположения.\n"
   ]
  },
  {
   "cell_type": "markdown",
   "metadata": {},
   "source": [
    "Примем за аномальных пользователей тех, кто совершил от 2 заказов или совершил заказ дороже 35 000 рублей."
   ]
  },
  {
   "cell_type": "code",
   "execution_count": 35,
   "metadata": {},
   "outputs": [
    {
     "name": "stdout",
     "output_type": "stream",
     "text": [
      "1099    148427295\n",
      "18      199603092\n",
      "23      237748145\n",
      "37      249864742\n",
      "684     358944393\n",
      "Name: visitorId, dtype: int64\n",
      "53\n"
     ]
    }
   ],
   "source": [
    "#определим сколько всего аномальных пользователей\n",
    "usersWithManyOrders = pd.concat(\n",
    "    [\n",
    "        ordersByUsersA[ordersByUsersA['transaction'] > 2]['visitorId'],\n",
    "        ordersByUsersB[ordersByUsersB['transaction'] > 2]['visitorId'],\n",
    "    ],\n",
    "    axis=0,\n",
    ")\n",
    "usersWithExpensiveOrders = orders[orders['revenue'] > 35000]['visitorId']\n",
    "abnormalUsers = (\n",
    "    pd.concat([usersWithManyOrders, usersWithExpensiveOrders], axis=0)\n",
    "    .drop_duplicates()\n",
    "    .sort_values()\n",
    ")\n",
    "print(abnormalUsers.head(5))\n",
    "print(abnormalUsers.shape[0]) \n"
   ]
  },
  {
   "cell_type": "markdown",
   "metadata": {},
   "source": [
    "Всего 53 аномальных пользователя."
   ]
  },
  {
   "cell_type": "code",
   "execution_count": 36,
   "metadata": {},
   "outputs": [],
   "source": [
    "#подготовим выборки количества заказов по пользователям по группам теста\n",
    "sampleAFiltered = pd.concat(\n",
    "    [\n",
    "        ordersByUsersA[\n",
    "            np.logical_not(ordersByUsersA['visitorId'].isin(abnormalUsers))\n",
    "        ]['transaction'],\n",
    "        pd.Series(\n",
    "            0,\n",
    "            index=np.arange(\n",
    "                data['visitorsPerDateA'].sum() - len(ordersByUsersA['transaction'])\n",
    "            ),\n",
    "            name='transaction',\n",
    "        ),\n",
    "    ],\n",
    "    axis=0,\n",
    ")\n",
    "\n",
    "sampleBFiltered = pd.concat(\n",
    "    [\n",
    "        ordersByUsersB[\n",
    "            np.logical_not(ordersByUsersB['visitorId'].isin(abnormalUsers))\n",
    "        ]['transaction'],\n",
    "        pd.Series(\n",
    "            0,\n",
    "            index=np.arange(\n",
    "                data['visitorsPerDateB'].sum() - len(ordersByUsersB['transaction'])\n",
    "            ),\n",
    "            name='transaction',\n",
    "        ),\n",
    "    ],\n",
    "    axis=0,\n",
    ") "
   ]
  },
  {
   "cell_type": "markdown",
   "metadata": {},
   "source": [
    "Нулевая гипотеза - среднее количество заказов на посетителя группы В  по \"очищенным\" данным равно среднему количеству заказов на посетителя  группы А по \"очищенным\" данным,\n",
    "\n",
    "Альтернативная гипотеза - среднее количество заказов на посетителя группы В по \"очищенным\" данным не равно среднему количеству заказов на посетителя группы А по \"очищенным\" данным."
   ]
  },
  {
   "cell_type": "code",
   "execution_count": 37,
   "metadata": {},
   "outputs": [
    {
     "name": "stdout",
     "output_type": "stream",
     "text": [
      "P-value: 0.010\n",
      "Отвергаем нулевую гипотезу: разница статистически значима(по \"очищенным\" данным)\n",
      "Относительный прирост среднего группы В к конверсии группы А по 'очищенным' данным равен:0.179\n"
     ]
    }
   ],
   "source": [
    "#применим статистический критерий Манна-Уитни к полученным выборкам\n",
    "results_abnormal = stats.mannwhitneyu(sampleAFiltered, sampleBFiltered)\n",
    "                             \n",
    "print('P-value: {0:.3f}'.format(results_abnormal.pvalue))\n",
    "\n",
    "if results_abnormal.pvalue < alpha:\n",
    "      print('Отвергаем нулевую гипотезу: разница статистически значима(по \"очищенным\" данным)')\n",
    "else:\n",
    "      print('Не получилось отвергнуть нулевую гипотезу, вывод о различии сделать нельзя(по \"очищенным\" данным)')\n",
    "    \n",
    "print(\"Относительный прирост среднего группы В к конверсии группы А по 'очищенным' данным равен:{0:.3f}\".\n",
    "      format(sampleBFiltered.mean()/sampleAFiltered.mean()-1))"
   ]
  },
  {
   "cell_type": "markdown",
   "metadata": {},
   "source": [
    "Вывод:\n",
    "По \"очищенным\" данным p-value 0.010 меньше уровня статистической значимости, поэтому нулевую гипотезу отвеграем. Анализ \"очищенных\" данных показывает, что в среднем количестве заказов между группами есть статистически значимые различия. Относительный прирост среднего группы В к конверсии группы А составляет 0.179 (17.9%). По сравнению с \"сырыми\" данными результаты изменились незначительно."
   ]
  },
  {
   "cell_type": "markdown",
   "metadata": {},
   "source": [
    "### Посчитайте статистическую значимость различий в среднем чеке заказа между группами по «очищенным» данным.<a id='shag_3_13'></a> \n",
    "Сделайте выводы и предположения.\n"
   ]
  },
  {
   "cell_type": "markdown",
   "metadata": {},
   "source": [
    "Нулевая гипотеза - средний чек заказа группы В  по \"очищенным\" данным равен среднему чеку заказа группы А по \"очищенным\" данным,\n",
    "\n",
    "Альтернативная гипотеза - средний чек заказа группы В по \"очищенным\" данным не равен среднему чеку заказа группы А по \"очищенным\" данным."
   ]
  },
  {
   "cell_type": "code",
   "execution_count": 38,
   "metadata": {},
   "outputs": [
    {
     "name": "stdout",
     "output_type": "stream",
     "text": [
      "P-value: 0.885\n",
      "Не получилось отвергнуть нулевую гипотезу, вывод о различии сделать нельзя(по \"очищенным\" данным)\n",
      "Относительное различие среднего чека по \"очищенным\" данным между сегментами равно:0.022\n"
     ]
    }
   ],
   "source": [
    "#применим метод Уилкоксона-Манна-Уитни\n",
    "results_revenue_abnormal = stats.mannwhitneyu(\n",
    "    orders[np.logical_and(orders['group'] == 'A', \n",
    "                          np.logical_not(orders['visitorId'].isin(abnormalUsers)),)]['revenue'],\n",
    "    orders[np.logical_and(orders['group'] == 'B',np.logical_not(orders['visitorId'].isin(abnormalUsers)),)]['revenue'])\n",
    "\n",
    "print('P-value: {0:.3f}'.format(results_revenue_abnormal.pvalue))\n",
    "\n",
    "if results_revenue_abnormal.pvalue < alpha:\n",
    "      print('Отвергаем нулевую гипотезу: разница статистически значима(по \"очищенным\" данным)')\n",
    "else:\n",
    "      print('Не получилось отвергнуть нулевую гипотезу, вывод о различии сделать нельзя(по \"очищенным\" данным)')\n",
    "        \n",
    "        \n",
    "        \n",
    "print('Относительное различие среднего чека по \"очищенным\" данным между сегментами равно:{0:.3f}'\n",
    "      .format(orders[np.logical_and(orders['group'] == 'B',\n",
    "                                    np.logical_not(orders['visitorId'].isin(abnormalUsers)),)]['revenue'].mean()/\n",
    "              orders[np.logical_and(orders['group'] == 'A',\n",
    "                                    np.logical_not(orders['visitorId'].isin(abnormalUsers)),)]['revenue'].mean()- 1)) \n"
   ]
  },
  {
   "cell_type": "markdown",
   "metadata": {},
   "source": [
    "Вывод:\n",
    "По \"очищенным\" данным p-value 0.885 больше уровня статистической значимости, поэтому нулевую гипотезу не отвергаем, статистически значимых отличий в среднем чеке между группами нет. Относительное различие среднего чека между сегментами составляет 0.022(2.2%) - средний чек группы В выше среднего чека группы А. \n",
    "По сравнению с \"сырыми\" данными p-value увеличился с 0.729 до 0.885, но разница между сегментами сократилась с 25.9% до 2.2%"
   ]
  },
  {
   "cell_type": "markdown",
   "metadata": {},
   "source": [
    "### Примите решение по результатам теста и объясните его.<a id='shag_3_14'></a>\n",
    "Варианты решений: 1. Остановить тест, зафиксировать победу одной из групп. 2. Остановить тест, зафиксировать отсутствие различий между группами. 3. Продолжить тест.\n"
   ]
  },
  {
   "cell_type": "markdown",
   "metadata": {},
   "source": [
    "**Выводы по А/В тесту:**\n",
    "\n",
    "В течение всего теста метрики группы В (выручка, конверсия) лидировали над метриками группы А.\n",
    "Однако существенные колебания на графике кумулятивного среднего чека по группам и существенное относительное различие среднего чека между сегментами(25.9%) при отсутствии статистической значимости указывают на влияние аномальных значений. Это подтверждается данными существенного оносительного различия среднего чека между сегметами после \"очистки\" от аномалий, показатель составил 2.2% (вместо 25.9%).\n",
    "В среднем количестве заказов между группами есть статистически значимые различия и до очистки данных, и после. Относительный прирост среднего группы В к конверсии группы А до очистки составил 13.8%, после очистки данных - 17.9%. Таким образом, сделаем вывод - показатели группы В успешнее (число заказов растет, средний чек не меняется), чем показатели группы А поэтому **тест остановить, признать победу группы В.**\n",
    "\n",
    "\n"
   ]
  }
 ],
 "metadata": {
  "ExecuteTimeLog": [
   {
    "duration": 348,
    "start_time": "2023-07-02T04:37:47.642Z"
   },
   {
    "duration": 2,
    "start_time": "2023-07-02T04:40:52.671Z"
   },
   {
    "duration": 238,
    "start_time": "2023-07-02T04:43:39.177Z"
   },
   {
    "duration": 17,
    "start_time": "2023-07-02T04:44:50.505Z"
   },
   {
    "duration": 794,
    "start_time": "2023-07-02T04:46:10.434Z"
   },
   {
    "duration": 12,
    "start_time": "2023-07-02T04:51:47.448Z"
   },
   {
    "duration": 6,
    "start_time": "2023-07-02T04:52:31.276Z"
   },
   {
    "duration": 6,
    "start_time": "2023-07-02T04:54:53.735Z"
   },
   {
    "duration": 5,
    "start_time": "2023-07-02T04:55:28.254Z"
   },
   {
    "duration": 12,
    "start_time": "2023-07-02T05:02:24.289Z"
   },
   {
    "duration": 11,
    "start_time": "2023-07-02T05:06:17.950Z"
   },
   {
    "duration": 87,
    "start_time": "2023-07-02T05:31:24.829Z"
   },
   {
    "duration": 11,
    "start_time": "2023-07-02T05:31:28.315Z"
   },
   {
    "duration": 13,
    "start_time": "2023-07-02T05:33:39.165Z"
   },
   {
    "duration": 16,
    "start_time": "2023-07-02T05:34:29.576Z"
   },
   {
    "duration": 389,
    "start_time": "2023-07-02T05:38:40.365Z"
   },
   {
    "duration": 962,
    "start_time": "2023-07-02T05:39:07.466Z"
   },
   {
    "duration": 143,
    "start_time": "2023-07-02T05:39:08.431Z"
   },
   {
    "duration": 10,
    "start_time": "2023-07-02T05:39:08.575Z"
   },
   {
    "duration": 30,
    "start_time": "2023-07-02T05:39:08.587Z"
   },
   {
    "duration": 8,
    "start_time": "2023-07-02T05:39:08.619Z"
   },
   {
    "duration": 10,
    "start_time": "2023-07-02T05:39:08.629Z"
   },
   {
    "duration": 17,
    "start_time": "2023-07-02T05:39:08.641Z"
   },
   {
    "duration": 14,
    "start_time": "2023-07-02T05:39:08.660Z"
   },
   {
    "duration": 14,
    "start_time": "2023-07-02T05:39:08.676Z"
   },
   {
    "duration": 27,
    "start_time": "2023-07-02T05:39:08.701Z"
   },
   {
    "duration": 508,
    "start_time": "2023-07-02T05:39:08.730Z"
   },
   {
    "duration": 574,
    "start_time": "2023-07-02T05:41:39.879Z"
   },
   {
    "duration": 12,
    "start_time": "2023-07-02T05:42:07.069Z"
   },
   {
    "duration": 13,
    "start_time": "2023-07-02T05:43:21.363Z"
   },
   {
    "duration": 5,
    "start_time": "2023-07-02T05:43:32.265Z"
   },
   {
    "duration": 4,
    "start_time": "2023-07-02T05:43:48.572Z"
   },
   {
    "duration": 4,
    "start_time": "2023-07-02T05:43:57.696Z"
   },
   {
    "duration": 10,
    "start_time": "2023-07-02T05:46:29.060Z"
   },
   {
    "duration": 9,
    "start_time": "2023-07-02T05:48:11.378Z"
   },
   {
    "duration": 26,
    "start_time": "2023-07-02T06:27:18.594Z"
   },
   {
    "duration": 30,
    "start_time": "2023-07-02T06:29:07.176Z"
   },
   {
    "duration": 155,
    "start_time": "2023-07-02T06:29:46.805Z"
   },
   {
    "duration": 83,
    "start_time": "2023-07-02T06:30:38.029Z"
   },
   {
    "duration": 86,
    "start_time": "2023-07-02T06:30:44.405Z"
   },
   {
    "duration": 83,
    "start_time": "2023-07-02T06:30:53.953Z"
   },
   {
    "duration": 85,
    "start_time": "2023-07-02T06:30:57.939Z"
   },
   {
    "duration": 94,
    "start_time": "2023-07-02T06:31:00.396Z"
   },
   {
    "duration": 74,
    "start_time": "2023-07-02T06:31:06.676Z"
   },
   {
    "duration": 246,
    "start_time": "2023-07-02T06:31:29.097Z"
   },
   {
    "duration": 72,
    "start_time": "2023-07-02T06:31:37.193Z"
   },
   {
    "duration": 86,
    "start_time": "2023-07-02T06:31:53.683Z"
   },
   {
    "duration": 82,
    "start_time": "2023-07-02T06:32:00.845Z"
   },
   {
    "duration": 75,
    "start_time": "2023-07-02T06:32:04.701Z"
   },
   {
    "duration": 149,
    "start_time": "2023-07-02T06:32:38.578Z"
   },
   {
    "duration": 282,
    "start_time": "2023-07-02T06:34:37.555Z"
   },
   {
    "duration": 269,
    "start_time": "2023-07-02T06:38:12.065Z"
   },
   {
    "duration": 276,
    "start_time": "2023-07-02T06:41:31.118Z"
   },
   {
    "duration": 260,
    "start_time": "2023-07-02T06:42:57.204Z"
   },
   {
    "duration": 182,
    "start_time": "2023-07-02T06:43:38.724Z"
   },
   {
    "duration": 145,
    "start_time": "2023-07-02T06:44:37.307Z"
   },
   {
    "duration": 230,
    "start_time": "2023-07-02T06:44:47.119Z"
   },
   {
    "duration": 243,
    "start_time": "2023-07-02T06:45:23.708Z"
   },
   {
    "duration": 256,
    "start_time": "2023-07-02T06:45:32.137Z"
   },
   {
    "duration": 207,
    "start_time": "2023-07-02T06:45:46.148Z"
   },
   {
    "duration": 228,
    "start_time": "2023-07-02T06:46:26.695Z"
   },
   {
    "duration": 172,
    "start_time": "2023-07-02T06:46:54.352Z"
   },
   {
    "duration": 180,
    "start_time": "2023-07-02T06:47:00.954Z"
   },
   {
    "duration": 185,
    "start_time": "2023-07-02T06:59:32.154Z"
   },
   {
    "duration": 184,
    "start_time": "2023-07-02T07:01:01.428Z"
   },
   {
    "duration": 193,
    "start_time": "2023-07-02T07:01:10.749Z"
   },
   {
    "duration": 324,
    "start_time": "2023-07-02T07:18:16.164Z"
   },
   {
    "duration": 243,
    "start_time": "2023-07-02T07:20:10.537Z"
   },
   {
    "duration": 68,
    "start_time": "2023-07-02T09:06:06.326Z"
   },
   {
    "duration": 1533,
    "start_time": "2023-07-02T09:06:16.975Z"
   },
   {
    "duration": 266,
    "start_time": "2023-07-02T09:06:18.510Z"
   },
   {
    "duration": 18,
    "start_time": "2023-07-02T09:06:18.778Z"
   },
   {
    "duration": 18,
    "start_time": "2023-07-02T09:06:18.799Z"
   },
   {
    "duration": 22,
    "start_time": "2023-07-02T09:06:18.819Z"
   },
   {
    "duration": 27,
    "start_time": "2023-07-02T09:06:18.843Z"
   },
   {
    "duration": 33,
    "start_time": "2023-07-02T09:06:18.876Z"
   },
   {
    "duration": 15,
    "start_time": "2023-07-02T09:06:18.911Z"
   },
   {
    "duration": 21,
    "start_time": "2023-07-02T09:06:18.929Z"
   },
   {
    "duration": 43,
    "start_time": "2023-07-02T09:06:18.953Z"
   },
   {
    "duration": 23,
    "start_time": "2023-07-02T09:06:18.998Z"
   },
   {
    "duration": 9,
    "start_time": "2023-07-02T09:06:19.024Z"
   },
   {
    "duration": 43,
    "start_time": "2023-07-02T09:06:19.035Z"
   },
   {
    "duration": 15,
    "start_time": "2023-07-02T09:06:19.080Z"
   },
   {
    "duration": 333,
    "start_time": "2023-07-02T09:06:19.096Z"
   },
   {
    "duration": 330,
    "start_time": "2023-07-02T09:06:19.431Z"
   },
   {
    "duration": 235,
    "start_time": "2023-07-02T09:06:19.763Z"
   },
   {
    "duration": 400,
    "start_time": "2023-07-02T09:06:20.000Z"
   },
   {
    "duration": 248,
    "start_time": "2023-07-02T09:06:20.402Z"
   },
   {
    "duration": 283,
    "start_time": "2023-07-02T09:07:58.672Z"
   },
   {
    "duration": 80,
    "start_time": "2023-07-02T09:17:17.909Z"
   },
   {
    "duration": 82,
    "start_time": "2023-07-02T09:17:31.803Z"
   },
   {
    "duration": 67,
    "start_time": "2023-07-02T09:17:35.897Z"
   },
   {
    "duration": 117,
    "start_time": "2023-07-02T09:17:39.442Z"
   },
   {
    "duration": 115,
    "start_time": "2023-07-02T09:17:55.801Z"
   },
   {
    "duration": 458,
    "start_time": "2023-07-02T09:18:16.422Z"
   },
   {
    "duration": 359,
    "start_time": "2023-07-02T09:18:53.786Z"
   },
   {
    "duration": 407,
    "start_time": "2023-07-02T09:21:56.903Z"
   },
   {
    "duration": 318,
    "start_time": "2023-07-02T09:22:28.786Z"
   },
   {
    "duration": 297,
    "start_time": "2023-07-02T09:23:16.309Z"
   },
   {
    "duration": 14,
    "start_time": "2023-07-02T09:32:01.971Z"
   },
   {
    "duration": 9,
    "start_time": "2023-07-02T09:32:05.941Z"
   },
   {
    "duration": 18,
    "start_time": "2023-07-02T09:35:06.811Z"
   },
   {
    "duration": 464,
    "start_time": "2023-07-02T09:35:28.146Z"
   },
   {
    "duration": 14,
    "start_time": "2023-07-02T09:36:01.213Z"
   },
   {
    "duration": 19,
    "start_time": "2023-07-02T09:37:32.060Z"
   },
   {
    "duration": 12,
    "start_time": "2023-07-02T09:39:10.413Z"
   },
   {
    "duration": 140,
    "start_time": "2023-07-02T09:39:13.727Z"
   },
   {
    "duration": 169,
    "start_time": "2023-07-02T09:39:26.362Z"
   },
   {
    "duration": 171,
    "start_time": "2023-07-02T09:41:19.351Z"
   },
   {
    "duration": 155,
    "start_time": "2023-07-02T09:41:28.671Z"
   },
   {
    "duration": 136,
    "start_time": "2023-07-02T09:43:54.419Z"
   },
   {
    "duration": 155,
    "start_time": "2023-07-02T09:44:49.851Z"
   },
   {
    "duration": 156,
    "start_time": "2023-07-02T09:45:12.045Z"
   },
   {
    "duration": 1238,
    "start_time": "2023-07-02T09:50:10.465Z"
   },
   {
    "duration": 4,
    "start_time": "2023-07-02T09:50:19.795Z"
   },
   {
    "duration": 83,
    "start_time": "2023-07-02T09:52:35.213Z"
   },
   {
    "duration": 7,
    "start_time": "2023-07-02T09:52:45.207Z"
   },
   {
    "duration": 80,
    "start_time": "2023-07-02T09:53:12.073Z"
   },
   {
    "duration": 60,
    "start_time": "2023-07-02T09:53:17.299Z"
   },
   {
    "duration": 89,
    "start_time": "2023-07-02T09:54:26.320Z"
   },
   {
    "duration": 113,
    "start_time": "2023-07-02T09:54:42.511Z"
   },
   {
    "duration": 81,
    "start_time": "2023-07-02T09:55:19.705Z"
   },
   {
    "duration": 68,
    "start_time": "2023-07-02T09:55:23.803Z"
   },
   {
    "duration": 74,
    "start_time": "2023-07-02T09:56:02.394Z"
   },
   {
    "duration": 7,
    "start_time": "2023-07-02T10:00:18.121Z"
   },
   {
    "duration": 6,
    "start_time": "2023-07-02T10:00:34.530Z"
   },
   {
    "duration": 6,
    "start_time": "2023-07-02T10:00:42.705Z"
   },
   {
    "duration": 4,
    "start_time": "2023-07-02T10:01:50.009Z"
   },
   {
    "duration": 5,
    "start_time": "2023-07-02T10:02:05.812Z"
   },
   {
    "duration": 95,
    "start_time": "2023-07-02T10:02:19.651Z"
   },
   {
    "duration": 5,
    "start_time": "2023-07-02T10:02:27.118Z"
   },
   {
    "duration": 12,
    "start_time": "2023-07-02T10:26:03.250Z"
   },
   {
    "duration": 187,
    "start_time": "2023-07-02T10:26:52.451Z"
   },
   {
    "duration": 31,
    "start_time": "2023-07-02T10:27:43.819Z"
   },
   {
    "duration": 11,
    "start_time": "2023-07-02T10:28:01.553Z"
   },
   {
    "duration": 5,
    "start_time": "2023-07-02T10:28:13.218Z"
   },
   {
    "duration": 6,
    "start_time": "2023-07-02T10:28:17.326Z"
   },
   {
    "duration": 339,
    "start_time": "2023-07-02T10:29:26.775Z"
   },
   {
    "duration": 67,
    "start_time": "2023-07-02T10:32:03.398Z"
   },
   {
    "duration": 478,
    "start_time": "2023-07-02T10:32:12.668Z"
   },
   {
    "duration": 453,
    "start_time": "2023-07-02T10:32:17.296Z"
   },
   {
    "duration": 679,
    "start_time": "2023-07-02T10:32:28.032Z"
   },
   {
    "duration": 458,
    "start_time": "2023-07-02T10:32:42.359Z"
   },
   {
    "duration": 455,
    "start_time": "2023-07-02T10:32:46.404Z"
   },
   {
    "duration": 441,
    "start_time": "2023-07-02T10:32:49.426Z"
   },
   {
    "duration": 145,
    "start_time": "2023-07-02T10:33:45.588Z"
   },
   {
    "duration": 695,
    "start_time": "2023-07-02T10:33:54.613Z"
   },
   {
    "duration": 380,
    "start_time": "2023-07-02T10:34:11.051Z"
   },
   {
    "duration": 342,
    "start_time": "2023-07-02T10:34:17.714Z"
   },
   {
    "duration": 359,
    "start_time": "2023-07-02T10:34:32.059Z"
   },
   {
    "duration": 322,
    "start_time": "2023-07-02T10:37:21.762Z"
   },
   {
    "duration": 553,
    "start_time": "2023-07-02T10:37:34.220Z"
   },
   {
    "duration": 330,
    "start_time": "2023-07-02T10:37:48.610Z"
   },
   {
    "duration": 190,
    "start_time": "2023-07-02T10:39:46.407Z"
   },
   {
    "duration": 206,
    "start_time": "2023-07-02T10:41:02.716Z"
   },
   {
    "duration": 235,
    "start_time": "2023-07-02T10:41:16.051Z"
   },
   {
    "duration": 213,
    "start_time": "2023-07-02T10:42:32.613Z"
   },
   {
    "duration": 213,
    "start_time": "2023-07-02T10:42:43.221Z"
   },
   {
    "duration": 232,
    "start_time": "2023-07-02T10:42:54.232Z"
   },
   {
    "duration": 214,
    "start_time": "2023-07-02T10:43:00.733Z"
   },
   {
    "duration": 324,
    "start_time": "2023-07-02T10:43:07.111Z"
   },
   {
    "duration": 254,
    "start_time": "2023-07-02T10:43:13.192Z"
   },
   {
    "duration": 201,
    "start_time": "2023-07-02T10:43:18.012Z"
   },
   {
    "duration": 9,
    "start_time": "2023-07-02T10:50:09.105Z"
   },
   {
    "duration": 8,
    "start_time": "2023-07-02T10:50:31.284Z"
   },
   {
    "duration": 6,
    "start_time": "2023-07-02T10:50:48.718Z"
   },
   {
    "duration": 191,
    "start_time": "2023-07-02T11:02:20.212Z"
   },
   {
    "duration": 11,
    "start_time": "2023-07-02T11:12:55.743Z"
   },
   {
    "duration": 5,
    "start_time": "2023-07-02T11:15:57.913Z"
   },
   {
    "duration": 75,
    "start_time": "2023-07-02T11:17:53.110Z"
   },
   {
    "duration": 5,
    "start_time": "2023-07-02T11:20:21.576Z"
   },
   {
    "duration": 5,
    "start_time": "2023-07-02T11:20:49.313Z"
   },
   {
    "duration": 10,
    "start_time": "2023-07-02T11:22:47.703Z"
   },
   {
    "duration": 22,
    "start_time": "2023-07-02T11:25:40.905Z"
   },
   {
    "duration": 1346,
    "start_time": "2023-07-02T11:56:42.804Z"
   },
   {
    "duration": 200,
    "start_time": "2023-07-02T11:56:44.157Z"
   },
   {
    "duration": 26,
    "start_time": "2023-07-02T11:56:44.361Z"
   },
   {
    "duration": 36,
    "start_time": "2023-07-02T11:56:44.389Z"
   },
   {
    "duration": 15,
    "start_time": "2023-07-02T11:56:44.429Z"
   },
   {
    "duration": 10,
    "start_time": "2023-07-02T11:56:44.447Z"
   },
   {
    "duration": 21,
    "start_time": "2023-07-02T11:56:44.459Z"
   },
   {
    "duration": 16,
    "start_time": "2023-07-02T11:56:44.482Z"
   },
   {
    "duration": 14,
    "start_time": "2023-07-02T11:56:44.500Z"
   },
   {
    "duration": 57,
    "start_time": "2023-07-02T11:56:44.518Z"
   },
   {
    "duration": 32,
    "start_time": "2023-07-02T11:56:44.577Z"
   },
   {
    "duration": 6,
    "start_time": "2023-07-02T11:56:44.611Z"
   },
   {
    "duration": 32,
    "start_time": "2023-07-02T11:56:44.619Z"
   },
   {
    "duration": 31,
    "start_time": "2023-07-02T11:56:44.653Z"
   },
   {
    "duration": 391,
    "start_time": "2023-07-02T11:56:44.686Z"
   },
   {
    "duration": 416,
    "start_time": "2023-07-02T11:56:45.079Z"
   },
   {
    "duration": 267,
    "start_time": "2023-07-02T11:56:45.498Z"
   },
   {
    "duration": 442,
    "start_time": "2023-07-02T11:56:45.769Z"
   },
   {
    "duration": 287,
    "start_time": "2023-07-02T11:56:46.213Z"
   },
   {
    "duration": 320,
    "start_time": "2023-07-02T11:56:46.514Z"
   },
   {
    "duration": 15,
    "start_time": "2023-07-02T11:56:46.836Z"
   },
   {
    "duration": 168,
    "start_time": "2023-07-02T11:56:46.872Z"
   },
   {
    "duration": 194,
    "start_time": "2023-07-02T11:56:47.042Z"
   },
   {
    "duration": 6,
    "start_time": "2023-07-02T11:56:47.239Z"
   },
   {
    "duration": 42,
    "start_time": "2023-07-02T11:56:47.248Z"
   },
   {
    "duration": 8,
    "start_time": "2023-07-02T11:56:47.291Z"
   },
   {
    "duration": 459,
    "start_time": "2023-07-02T11:56:47.300Z"
   },
   {
    "duration": 230,
    "start_time": "2023-07-02T11:56:47.769Z"
   },
   {
    "duration": 8,
    "start_time": "2023-07-02T11:56:48.008Z"
   },
   {
    "duration": 196,
    "start_time": "2023-07-02T11:56:48.018Z"
   },
   {
    "duration": 8,
    "start_time": "2023-07-02T11:56:48.228Z"
   },
   {
    "duration": 9,
    "start_time": "2023-07-02T11:56:48.238Z"
   },
   {
    "duration": 152,
    "start_time": "2023-07-02T11:56:48.249Z"
   },
   {
    "duration": 1335,
    "start_time": "2023-07-02T12:02:14.954Z"
   },
   {
    "duration": 123,
    "start_time": "2023-07-02T12:02:16.299Z"
   },
   {
    "duration": 21,
    "start_time": "2023-07-02T12:02:16.424Z"
   },
   {
    "duration": 12,
    "start_time": "2023-07-02T12:02:16.448Z"
   },
   {
    "duration": 23,
    "start_time": "2023-07-02T12:02:16.462Z"
   },
   {
    "duration": 11,
    "start_time": "2023-07-02T12:02:16.488Z"
   },
   {
    "duration": 29,
    "start_time": "2023-07-02T12:02:16.505Z"
   },
   {
    "duration": 13,
    "start_time": "2023-07-02T12:02:16.536Z"
   },
   {
    "duration": 26,
    "start_time": "2023-07-02T12:02:16.551Z"
   },
   {
    "duration": 31,
    "start_time": "2023-07-02T12:02:16.583Z"
   },
   {
    "duration": 15,
    "start_time": "2023-07-02T12:02:16.616Z"
   },
   {
    "duration": 8,
    "start_time": "2023-07-02T12:02:16.633Z"
   },
   {
    "duration": 35,
    "start_time": "2023-07-02T12:02:16.642Z"
   },
   {
    "duration": 15,
    "start_time": "2023-07-02T12:02:16.681Z"
   },
   {
    "duration": 333,
    "start_time": "2023-07-02T12:02:16.700Z"
   },
   {
    "duration": 363,
    "start_time": "2023-07-02T12:02:17.035Z"
   },
   {
    "duration": 282,
    "start_time": "2023-07-02T12:02:17.400Z"
   },
   {
    "duration": 339,
    "start_time": "2023-07-02T12:02:17.695Z"
   },
   {
    "duration": 269,
    "start_time": "2023-07-02T12:02:18.036Z"
   },
   {
    "duration": 304,
    "start_time": "2023-07-02T12:02:18.307Z"
   },
   {
    "duration": 13,
    "start_time": "2023-07-02T12:02:18.613Z"
   },
   {
    "duration": 175,
    "start_time": "2023-07-02T12:02:18.628Z"
   },
   {
    "duration": 198,
    "start_time": "2023-07-02T12:02:18.806Z"
   },
   {
    "duration": 6,
    "start_time": "2023-07-02T12:02:19.006Z"
   },
   {
    "duration": 19,
    "start_time": "2023-07-02T12:02:19.014Z"
   },
   {
    "duration": 34,
    "start_time": "2023-07-02T12:02:19.036Z"
   },
   {
    "duration": 442,
    "start_time": "2023-07-02T12:02:19.071Z"
   },
   {
    "duration": 203,
    "start_time": "2023-07-02T12:02:19.516Z"
   },
   {
    "duration": 6,
    "start_time": "2023-07-02T12:02:19.721Z"
   },
   {
    "duration": 175,
    "start_time": "2023-07-02T12:02:19.729Z"
   },
   {
    "duration": 7,
    "start_time": "2023-07-02T12:02:19.906Z"
   },
   {
    "duration": 9,
    "start_time": "2023-07-02T12:02:19.914Z"
   },
   {
    "duration": 31,
    "start_time": "2023-07-02T12:02:19.925Z"
   },
   {
    "duration": 1252,
    "start_time": "2023-07-02T12:11:07.431Z"
   },
   {
    "duration": 119,
    "start_time": "2023-07-02T12:11:08.685Z"
   },
   {
    "duration": 16,
    "start_time": "2023-07-02T12:11:08.806Z"
   },
   {
    "duration": 19,
    "start_time": "2023-07-02T12:11:08.824Z"
   },
   {
    "duration": 11,
    "start_time": "2023-07-02T12:11:08.846Z"
   },
   {
    "duration": 19,
    "start_time": "2023-07-02T12:11:08.859Z"
   },
   {
    "duration": 20,
    "start_time": "2023-07-02T12:11:08.880Z"
   },
   {
    "duration": 17,
    "start_time": "2023-07-02T12:11:08.902Z"
   },
   {
    "duration": 18,
    "start_time": "2023-07-02T12:11:08.921Z"
   },
   {
    "duration": 35,
    "start_time": "2023-07-02T12:11:08.940Z"
   },
   {
    "duration": 32,
    "start_time": "2023-07-02T12:11:08.977Z"
   },
   {
    "duration": 8,
    "start_time": "2023-07-02T12:11:09.011Z"
   },
   {
    "duration": 11,
    "start_time": "2023-07-02T12:11:09.021Z"
   },
   {
    "duration": 44,
    "start_time": "2023-07-02T12:11:09.035Z"
   },
   {
    "duration": 335,
    "start_time": "2023-07-02T12:11:09.081Z"
   },
   {
    "duration": 339,
    "start_time": "2023-07-02T12:11:09.418Z"
   },
   {
    "duration": 238,
    "start_time": "2023-07-02T12:11:09.759Z"
   },
   {
    "duration": 310,
    "start_time": "2023-07-02T12:11:09.999Z"
   },
   {
    "duration": 285,
    "start_time": "2023-07-02T12:11:10.310Z"
   },
   {
    "duration": 314,
    "start_time": "2023-07-02T12:11:10.597Z"
   },
   {
    "duration": 14,
    "start_time": "2023-07-02T12:11:10.913Z"
   },
   {
    "duration": 182,
    "start_time": "2023-07-02T12:11:10.929Z"
   },
   {
    "duration": 172,
    "start_time": "2023-07-02T12:11:11.114Z"
   },
   {
    "duration": 8,
    "start_time": "2023-07-02T12:11:11.289Z"
   },
   {
    "duration": 14,
    "start_time": "2023-07-02T12:11:11.300Z"
   },
   {
    "duration": 37,
    "start_time": "2023-07-02T12:11:11.317Z"
   },
   {
    "duration": 437,
    "start_time": "2023-07-02T12:11:11.356Z"
   },
   {
    "duration": 194,
    "start_time": "2023-07-02T12:11:11.795Z"
   },
   {
    "duration": 6,
    "start_time": "2023-07-02T12:11:11.992Z"
   },
   {
    "duration": 258,
    "start_time": "2023-07-02T12:11:12.000Z"
   },
   {
    "duration": 178,
    "start_time": "2023-07-02T12:11:12.260Z"
   },
   {
    "duration": 7,
    "start_time": "2023-07-02T12:11:12.440Z"
   },
   {
    "duration": 27,
    "start_time": "2023-07-02T12:11:12.450Z"
   },
   {
    "duration": 26,
    "start_time": "2023-07-02T12:11:12.484Z"
   },
   {
    "duration": 1273,
    "start_time": "2023-07-02T12:20:22.818Z"
   },
   {
    "duration": 138,
    "start_time": "2023-07-02T12:20:24.094Z"
   },
   {
    "duration": 15,
    "start_time": "2023-07-02T12:20:24.235Z"
   },
   {
    "duration": 33,
    "start_time": "2023-07-02T12:20:24.252Z"
   },
   {
    "duration": 8,
    "start_time": "2023-07-02T12:20:24.300Z"
   },
   {
    "duration": 14,
    "start_time": "2023-07-02T12:20:24.310Z"
   },
   {
    "duration": 25,
    "start_time": "2023-07-02T12:20:24.326Z"
   },
   {
    "duration": 30,
    "start_time": "2023-07-02T12:20:24.353Z"
   },
   {
    "duration": 20,
    "start_time": "2023-07-02T12:20:24.388Z"
   },
   {
    "duration": 41,
    "start_time": "2023-07-02T12:20:24.410Z"
   },
   {
    "duration": 19,
    "start_time": "2023-07-02T12:20:24.453Z"
   },
   {
    "duration": 24,
    "start_time": "2023-07-02T12:20:24.474Z"
   },
   {
    "duration": 12,
    "start_time": "2023-07-02T12:20:24.499Z"
   },
   {
    "duration": 12,
    "start_time": "2023-07-02T12:20:24.515Z"
   },
   {
    "duration": 389,
    "start_time": "2023-07-02T12:20:24.528Z"
   },
   {
    "duration": 356,
    "start_time": "2023-07-02T12:20:24.919Z"
   },
   {
    "duration": 242,
    "start_time": "2023-07-02T12:20:25.277Z"
   },
   {
    "duration": 338,
    "start_time": "2023-07-02T12:20:25.520Z"
   },
   {
    "duration": 268,
    "start_time": "2023-07-02T12:20:25.860Z"
   },
   {
    "duration": 359,
    "start_time": "2023-07-02T12:20:26.130Z"
   },
   {
    "duration": 15,
    "start_time": "2023-07-02T12:20:26.491Z"
   },
   {
    "duration": 169,
    "start_time": "2023-07-02T12:20:26.508Z"
   },
   {
    "duration": 166,
    "start_time": "2023-07-02T12:20:26.679Z"
   },
   {
    "duration": 6,
    "start_time": "2023-07-02T12:20:26.847Z"
   },
   {
    "duration": 47,
    "start_time": "2023-07-02T12:20:26.855Z"
   },
   {
    "duration": 6,
    "start_time": "2023-07-02T12:20:26.908Z"
   },
   {
    "duration": 430,
    "start_time": "2023-07-02T12:20:26.916Z"
   },
   {
    "duration": 195,
    "start_time": "2023-07-02T12:20:27.347Z"
   },
   {
    "duration": 5,
    "start_time": "2023-07-02T12:20:27.544Z"
   },
   {
    "duration": 315,
    "start_time": "2023-07-02T12:20:27.551Z"
   },
   {
    "duration": 194,
    "start_time": "2023-07-02T12:20:27.873Z"
   },
   {
    "duration": 9,
    "start_time": "2023-07-02T12:20:28.069Z"
   },
   {
    "duration": 47,
    "start_time": "2023-07-02T12:20:28.080Z"
   },
   {
    "duration": 27,
    "start_time": "2023-07-02T12:26:37.538Z"
   },
   {
    "duration": 38,
    "start_time": "2023-07-02T12:27:09.700Z"
   },
   {
    "duration": 31,
    "start_time": "2023-07-02T12:28:46.104Z"
   },
   {
    "duration": 153,
    "start_time": "2023-07-02T12:31:50.562Z"
   },
   {
    "duration": 29,
    "start_time": "2023-07-02T12:31:58.205Z"
   },
   {
    "duration": 54,
    "start_time": "2023-07-02T12:33:45.758Z"
   },
   {
    "duration": 27,
    "start_time": "2023-07-02T12:34:17.421Z"
   },
   {
    "duration": 39,
    "start_time": "2023-07-02T12:36:54.487Z"
   },
   {
    "duration": 54,
    "start_time": "2023-07-02T12:37:07.741Z"
   },
   {
    "duration": 43,
    "start_time": "2023-07-02T12:40:08.514Z"
   },
   {
    "duration": 21,
    "start_time": "2023-07-02T13:02:24.624Z"
   },
   {
    "duration": 12,
    "start_time": "2023-07-02T13:07:11.842Z"
   },
   {
    "duration": 16,
    "start_time": "2023-07-02T13:09:53.537Z"
   },
   {
    "duration": 14,
    "start_time": "2023-07-02T13:10:31.942Z"
   },
   {
    "duration": 17,
    "start_time": "2023-07-02T13:10:42.113Z"
   },
   {
    "duration": 22,
    "start_time": "2023-07-02T13:37:06.956Z"
   },
   {
    "duration": 23,
    "start_time": "2023-07-02T13:44:45.366Z"
   },
   {
    "duration": 111,
    "start_time": "2023-07-02T13:48:21.027Z"
   },
   {
    "duration": 141,
    "start_time": "2023-07-02T13:49:16.196Z"
   },
   {
    "duration": 110,
    "start_time": "2023-07-02T13:50:43.046Z"
   },
   {
    "duration": 71,
    "start_time": "2023-07-02T13:50:51.542Z"
   },
   {
    "duration": 50,
    "start_time": "2023-07-02T13:51:12.641Z"
   },
   {
    "duration": 167,
    "start_time": "2023-07-02T14:32:42.285Z"
   },
   {
    "duration": 42,
    "start_time": "2023-07-02T14:32:53.821Z"
   },
   {
    "duration": 68,
    "start_time": "2023-07-02T14:33:24.266Z"
   },
   {
    "duration": 178,
    "start_time": "2023-07-02T14:33:37.815Z"
   },
   {
    "duration": 107,
    "start_time": "2023-07-02T14:33:50.721Z"
   },
   {
    "duration": 32,
    "start_time": "2023-07-02T14:34:15.948Z"
   },
   {
    "duration": 46,
    "start_time": "2023-07-02T14:34:40.916Z"
   },
   {
    "duration": 26,
    "start_time": "2023-07-02T14:35:06.500Z"
   },
   {
    "duration": 1276,
    "start_time": "2023-07-02T15:09:39.091Z"
   },
   {
    "duration": 140,
    "start_time": "2023-07-02T15:09:40.369Z"
   },
   {
    "duration": 18,
    "start_time": "2023-07-02T15:09:40.510Z"
   },
   {
    "duration": 40,
    "start_time": "2023-07-02T15:09:40.531Z"
   },
   {
    "duration": 37,
    "start_time": "2023-07-02T15:09:40.578Z"
   },
   {
    "duration": 64,
    "start_time": "2023-07-02T15:09:40.617Z"
   },
   {
    "duration": 16,
    "start_time": "2023-07-02T15:09:40.683Z"
   },
   {
    "duration": 17,
    "start_time": "2023-07-02T15:09:40.701Z"
   },
   {
    "duration": 19,
    "start_time": "2023-07-02T15:09:40.720Z"
   },
   {
    "duration": 60,
    "start_time": "2023-07-02T15:09:40.743Z"
   },
   {
    "duration": 23,
    "start_time": "2023-07-02T15:09:40.805Z"
   },
   {
    "duration": 15,
    "start_time": "2023-07-02T15:09:40.830Z"
   },
   {
    "duration": 36,
    "start_time": "2023-07-02T15:09:40.848Z"
   },
   {
    "duration": 33,
    "start_time": "2023-07-02T15:09:40.892Z"
   },
   {
    "duration": 355,
    "start_time": "2023-07-02T15:09:40.927Z"
   },
   {
    "duration": 333,
    "start_time": "2023-07-02T15:09:41.285Z"
   },
   {
    "duration": 296,
    "start_time": "2023-07-02T15:09:41.621Z"
   },
   {
    "duration": 392,
    "start_time": "2023-07-02T15:09:41.919Z"
   },
   {
    "duration": 298,
    "start_time": "2023-07-02T15:09:42.313Z"
   },
   {
    "duration": 385,
    "start_time": "2023-07-02T15:09:42.613Z"
   },
   {
    "duration": 17,
    "start_time": "2023-07-02T15:09:43.000Z"
   },
   {
    "duration": 232,
    "start_time": "2023-07-02T15:09:43.019Z"
   },
   {
    "duration": 214,
    "start_time": "2023-07-02T15:09:43.253Z"
   },
   {
    "duration": 12,
    "start_time": "2023-07-02T15:09:43.469Z"
   },
   {
    "duration": 13,
    "start_time": "2023-07-02T15:09:43.488Z"
   },
   {
    "duration": 6,
    "start_time": "2023-07-02T15:09:43.503Z"
   },
   {
    "duration": 603,
    "start_time": "2023-07-02T15:09:43.511Z"
   },
   {
    "duration": 252,
    "start_time": "2023-07-02T15:09:44.119Z"
   },
   {
    "duration": 5,
    "start_time": "2023-07-02T15:09:44.373Z"
   },
   {
    "duration": 259,
    "start_time": "2023-07-02T15:09:44.400Z"
   },
   {
    "duration": 251,
    "start_time": "2023-07-02T15:09:44.661Z"
   },
   {
    "duration": 9,
    "start_time": "2023-07-02T15:09:44.914Z"
   },
   {
    "duration": 56,
    "start_time": "2023-07-02T15:09:44.926Z"
   },
   {
    "duration": 20,
    "start_time": "2023-07-02T15:09:44.987Z"
   },
   {
    "duration": 82,
    "start_time": "2023-07-02T15:09:45.013Z"
   },
   {
    "duration": 15,
    "start_time": "2023-07-02T15:09:45.097Z"
   },
   {
    "duration": 41,
    "start_time": "2023-07-02T15:09:45.115Z"
   },
   {
    "duration": 30,
    "start_time": "2023-07-02T15:09:45.158Z"
   },
   {
    "duration": 1358,
    "start_time": "2023-07-02T15:30:39.141Z"
   },
   {
    "duration": 154,
    "start_time": "2023-07-02T15:30:40.502Z"
   },
   {
    "duration": 19,
    "start_time": "2023-07-02T15:30:40.657Z"
   },
   {
    "duration": 25,
    "start_time": "2023-07-02T15:30:40.679Z"
   },
   {
    "duration": 25,
    "start_time": "2023-07-02T15:30:40.706Z"
   },
   {
    "duration": 48,
    "start_time": "2023-07-02T15:30:40.733Z"
   },
   {
    "duration": 48,
    "start_time": "2023-07-02T15:30:40.783Z"
   },
   {
    "duration": 20,
    "start_time": "2023-07-02T15:30:40.833Z"
   },
   {
    "duration": 42,
    "start_time": "2023-07-02T15:30:40.855Z"
   },
   {
    "duration": 51,
    "start_time": "2023-07-02T15:30:40.901Z"
   },
   {
    "duration": 48,
    "start_time": "2023-07-02T15:30:40.954Z"
   },
   {
    "duration": 9,
    "start_time": "2023-07-02T15:30:41.004Z"
   },
   {
    "duration": 28,
    "start_time": "2023-07-02T15:30:41.015Z"
   },
   {
    "duration": 27,
    "start_time": "2023-07-02T15:30:41.045Z"
   },
   {
    "duration": 379,
    "start_time": "2023-07-02T15:30:41.074Z"
   },
   {
    "duration": 368,
    "start_time": "2023-07-02T15:30:41.455Z"
   },
   {
    "duration": 314,
    "start_time": "2023-07-02T15:30:41.826Z"
   },
   {
    "duration": 414,
    "start_time": "2023-07-02T15:30:42.142Z"
   },
   {
    "duration": 332,
    "start_time": "2023-07-02T15:30:42.557Z"
   },
   {
    "duration": 359,
    "start_time": "2023-07-02T15:30:42.894Z"
   },
   {
    "duration": 15,
    "start_time": "2023-07-02T15:30:43.255Z"
   },
   {
    "duration": 190,
    "start_time": "2023-07-02T15:30:43.271Z"
   },
   {
    "duration": 192,
    "start_time": "2023-07-02T15:30:43.464Z"
   },
   {
    "duration": 6,
    "start_time": "2023-07-02T15:30:43.658Z"
   },
   {
    "duration": 13,
    "start_time": "2023-07-02T15:30:43.666Z"
   },
   {
    "duration": 19,
    "start_time": "2023-07-02T15:30:43.683Z"
   },
   {
    "duration": 483,
    "start_time": "2023-07-02T15:30:43.705Z"
   },
   {
    "duration": 246,
    "start_time": "2023-07-02T15:30:44.193Z"
   },
   {
    "duration": 9,
    "start_time": "2023-07-02T15:30:44.441Z"
   },
   {
    "duration": 353,
    "start_time": "2023-07-02T15:30:44.452Z"
   },
   {
    "duration": 192,
    "start_time": "2023-07-02T15:30:44.807Z"
   },
   {
    "duration": 7,
    "start_time": "2023-07-02T15:30:45.001Z"
   },
   {
    "duration": 68,
    "start_time": "2023-07-02T15:30:45.010Z"
   },
   {
    "duration": 15,
    "start_time": "2023-07-02T15:30:45.080Z"
   },
   {
    "duration": 81,
    "start_time": "2023-07-02T15:30:45.097Z"
   },
   {
    "duration": 16,
    "start_time": "2023-07-02T15:30:45.183Z"
   },
   {
    "duration": 43,
    "start_time": "2023-07-02T15:30:45.203Z"
   },
   {
    "duration": 18,
    "start_time": "2023-07-02T15:30:45.248Z"
   },
   {
    "duration": 1436,
    "start_time": "2023-07-02T15:36:31.366Z"
   },
   {
    "duration": 157,
    "start_time": "2023-07-02T15:36:32.811Z"
   },
   {
    "duration": 22,
    "start_time": "2023-07-02T15:36:32.970Z"
   },
   {
    "duration": 19,
    "start_time": "2023-07-02T15:36:32.994Z"
   },
   {
    "duration": 16,
    "start_time": "2023-07-02T15:36:33.017Z"
   },
   {
    "duration": 19,
    "start_time": "2023-07-02T15:36:33.035Z"
   },
   {
    "duration": 32,
    "start_time": "2023-07-02T15:36:33.056Z"
   },
   {
    "duration": 27,
    "start_time": "2023-07-02T15:36:33.090Z"
   },
   {
    "duration": 33,
    "start_time": "2023-07-02T15:36:33.119Z"
   },
   {
    "duration": 45,
    "start_time": "2023-07-02T15:36:33.155Z"
   },
   {
    "duration": 28,
    "start_time": "2023-07-02T15:36:33.202Z"
   },
   {
    "duration": 6,
    "start_time": "2023-07-02T15:36:33.234Z"
   },
   {
    "duration": 33,
    "start_time": "2023-07-02T15:36:33.242Z"
   },
   {
    "duration": 31,
    "start_time": "2023-07-02T15:36:33.283Z"
   },
   {
    "duration": 434,
    "start_time": "2023-07-02T15:36:33.319Z"
   },
   {
    "duration": 415,
    "start_time": "2023-07-02T15:36:33.755Z"
   },
   {
    "duration": 298,
    "start_time": "2023-07-02T15:36:34.172Z"
   },
   {
    "duration": 411,
    "start_time": "2023-07-02T15:36:34.477Z"
   },
   {
    "duration": 276,
    "start_time": "2023-07-02T15:36:34.896Z"
   },
   {
    "duration": 372,
    "start_time": "2023-07-02T15:36:35.178Z"
   },
   {
    "duration": 22,
    "start_time": "2023-07-02T15:36:35.552Z"
   },
   {
    "duration": 178,
    "start_time": "2023-07-02T15:36:35.579Z"
   },
   {
    "duration": 177,
    "start_time": "2023-07-02T15:36:35.760Z"
   },
   {
    "duration": 6,
    "start_time": "2023-07-02T15:36:35.939Z"
   },
   {
    "duration": 26,
    "start_time": "2023-07-02T15:36:35.947Z"
   },
   {
    "duration": 8,
    "start_time": "2023-07-02T15:36:35.975Z"
   },
   {
    "duration": 457,
    "start_time": "2023-07-02T15:36:35.984Z"
   },
   {
    "duration": 218,
    "start_time": "2023-07-02T15:36:36.443Z"
   },
   {
    "duration": 12,
    "start_time": "2023-07-02T15:36:36.671Z"
   },
   {
    "duration": 309,
    "start_time": "2023-07-02T15:36:36.695Z"
   },
   {
    "duration": 222,
    "start_time": "2023-07-02T15:36:37.006Z"
   },
   {
    "duration": 6,
    "start_time": "2023-07-02T15:36:37.232Z"
   },
   {
    "duration": 46,
    "start_time": "2023-07-02T15:36:37.240Z"
   },
   {
    "duration": 20,
    "start_time": "2023-07-02T15:36:37.290Z"
   },
   {
    "duration": 30,
    "start_time": "2023-07-02T15:36:37.314Z"
   },
   {
    "duration": 10,
    "start_time": "2023-07-02T15:36:37.346Z"
   },
   {
    "duration": 89,
    "start_time": "2023-07-02T15:36:37.358Z"
   },
   {
    "duration": 0,
    "start_time": "2023-07-02T15:36:37.449Z"
   },
   {
    "duration": 1504,
    "start_time": "2023-07-02T15:38:19.916Z"
   },
   {
    "duration": 145,
    "start_time": "2023-07-02T15:38:21.423Z"
   },
   {
    "duration": 21,
    "start_time": "2023-07-02T15:38:21.577Z"
   },
   {
    "duration": 21,
    "start_time": "2023-07-02T15:38:21.599Z"
   },
   {
    "duration": 9,
    "start_time": "2023-07-02T15:38:21.623Z"
   },
   {
    "duration": 15,
    "start_time": "2023-07-02T15:38:21.633Z"
   },
   {
    "duration": 45,
    "start_time": "2023-07-02T15:38:21.650Z"
   },
   {
    "duration": 24,
    "start_time": "2023-07-02T15:38:21.697Z"
   },
   {
    "duration": 15,
    "start_time": "2023-07-02T15:38:21.723Z"
   },
   {
    "duration": 30,
    "start_time": "2023-07-02T15:38:21.739Z"
   },
   {
    "duration": 38,
    "start_time": "2023-07-02T15:38:21.771Z"
   },
   {
    "duration": 7,
    "start_time": "2023-07-02T15:38:21.812Z"
   },
   {
    "duration": 20,
    "start_time": "2023-07-02T15:38:21.822Z"
   },
   {
    "duration": 11,
    "start_time": "2023-07-02T15:38:21.845Z"
   },
   {
    "duration": 388,
    "start_time": "2023-07-02T15:38:21.858Z"
   },
   {
    "duration": 411,
    "start_time": "2023-07-02T15:38:22.248Z"
   },
   {
    "duration": 300,
    "start_time": "2023-07-02T15:38:22.661Z"
   },
   {
    "duration": 458,
    "start_time": "2023-07-02T15:38:22.964Z"
   },
   {
    "duration": 328,
    "start_time": "2023-07-02T15:38:23.429Z"
   },
   {
    "duration": 402,
    "start_time": "2023-07-02T15:38:23.759Z"
   },
   {
    "duration": 28,
    "start_time": "2023-07-02T15:38:24.164Z"
   },
   {
    "duration": 207,
    "start_time": "2023-07-02T15:38:24.194Z"
   },
   {
    "duration": 224,
    "start_time": "2023-07-02T15:38:24.403Z"
   },
   {
    "duration": 8,
    "start_time": "2023-07-02T15:38:24.629Z"
   },
   {
    "duration": 40,
    "start_time": "2023-07-02T15:38:24.639Z"
   },
   {
    "duration": 11,
    "start_time": "2023-07-02T15:38:24.682Z"
   },
   {
    "duration": 450,
    "start_time": "2023-07-02T15:38:24.695Z"
   },
   {
    "duration": 265,
    "start_time": "2023-07-02T15:38:25.148Z"
   },
   {
    "duration": 13,
    "start_time": "2023-07-02T15:38:25.414Z"
   },
   {
    "duration": 283,
    "start_time": "2023-07-02T15:38:25.432Z"
   },
   {
    "duration": 185,
    "start_time": "2023-07-02T15:38:25.717Z"
   },
   {
    "duration": 12,
    "start_time": "2023-07-02T15:38:25.904Z"
   },
   {
    "duration": 41,
    "start_time": "2023-07-02T15:38:25.920Z"
   },
   {
    "duration": 23,
    "start_time": "2023-07-02T15:38:25.964Z"
   },
   {
    "duration": 17,
    "start_time": "2023-07-02T15:38:25.991Z"
   },
   {
    "duration": 17,
    "start_time": "2023-07-02T15:38:26.011Z"
   },
   {
    "duration": 93,
    "start_time": "2023-07-02T15:38:26.029Z"
   },
   {
    "duration": 0,
    "start_time": "2023-07-02T15:38:26.124Z"
   },
   {
    "duration": 1286,
    "start_time": "2023-07-02T15:41:40.928Z"
   },
   {
    "duration": 176,
    "start_time": "2023-07-02T15:41:42.217Z"
   },
   {
    "duration": 26,
    "start_time": "2023-07-02T15:41:42.396Z"
   },
   {
    "duration": 15,
    "start_time": "2023-07-02T15:41:42.424Z"
   },
   {
    "duration": 6,
    "start_time": "2023-07-02T15:41:42.443Z"
   },
   {
    "duration": 12,
    "start_time": "2023-07-02T15:41:42.451Z"
   },
   {
    "duration": 39,
    "start_time": "2023-07-02T15:41:42.466Z"
   },
   {
    "duration": 22,
    "start_time": "2023-07-02T15:41:42.507Z"
   },
   {
    "duration": 20,
    "start_time": "2023-07-02T15:41:42.532Z"
   },
   {
    "duration": 27,
    "start_time": "2023-07-02T15:41:42.554Z"
   },
   {
    "duration": 29,
    "start_time": "2023-07-02T15:41:42.583Z"
   },
   {
    "duration": 10,
    "start_time": "2023-07-02T15:41:42.614Z"
   },
   {
    "duration": 14,
    "start_time": "2023-07-02T15:41:42.626Z"
   },
   {
    "duration": 54,
    "start_time": "2023-07-02T15:41:42.644Z"
   },
   {
    "duration": 484,
    "start_time": "2023-07-02T15:41:42.705Z"
   },
   {
    "duration": 499,
    "start_time": "2023-07-02T15:41:43.192Z"
   },
   {
    "duration": 298,
    "start_time": "2023-07-02T15:41:43.694Z"
   },
   {
    "duration": 401,
    "start_time": "2023-07-02T15:41:43.998Z"
   },
   {
    "duration": 342,
    "start_time": "2023-07-02T15:41:44.404Z"
   },
   {
    "duration": 448,
    "start_time": "2023-07-02T15:41:44.749Z"
   },
   {
    "duration": 22,
    "start_time": "2023-07-02T15:41:45.199Z"
   },
   {
    "duration": 184,
    "start_time": "2023-07-02T15:41:45.227Z"
   },
   {
    "duration": 200,
    "start_time": "2023-07-02T15:41:45.413Z"
   },
   {
    "duration": 6,
    "start_time": "2023-07-02T15:41:45.615Z"
   },
   {
    "duration": 13,
    "start_time": "2023-07-02T15:41:45.623Z"
   },
   {
    "duration": 6,
    "start_time": "2023-07-02T15:41:45.637Z"
   },
   {
    "duration": 501,
    "start_time": "2023-07-02T15:41:45.645Z"
   },
   {
    "duration": 257,
    "start_time": "2023-07-02T15:41:46.148Z"
   },
   {
    "duration": 11,
    "start_time": "2023-07-02T15:41:46.414Z"
   },
   {
    "duration": 276,
    "start_time": "2023-07-02T15:41:46.428Z"
   },
   {
    "duration": 213,
    "start_time": "2023-07-02T15:41:46.706Z"
   },
   {
    "duration": 7,
    "start_time": "2023-07-02T15:41:46.926Z"
   },
   {
    "duration": 47,
    "start_time": "2023-07-02T15:41:46.937Z"
   },
   {
    "duration": 14,
    "start_time": "2023-07-02T15:41:46.985Z"
   },
   {
    "duration": 15,
    "start_time": "2023-07-02T15:41:47.001Z"
   },
   {
    "duration": 12,
    "start_time": "2023-07-02T15:41:47.018Z"
   },
   {
    "duration": 112,
    "start_time": "2023-07-02T15:41:47.032Z"
   },
   {
    "duration": 0,
    "start_time": "2023-07-02T15:41:47.146Z"
   },
   {
    "duration": 1395,
    "start_time": "2023-07-02T15:42:11.748Z"
   },
   {
    "duration": 180,
    "start_time": "2023-07-02T15:42:13.145Z"
   },
   {
    "duration": 15,
    "start_time": "2023-07-02T15:42:13.328Z"
   },
   {
    "duration": 15,
    "start_time": "2023-07-02T15:42:13.347Z"
   },
   {
    "duration": 16,
    "start_time": "2023-07-02T15:42:13.364Z"
   },
   {
    "duration": 11,
    "start_time": "2023-07-02T15:42:13.387Z"
   },
   {
    "duration": 23,
    "start_time": "2023-07-02T15:42:13.402Z"
   },
   {
    "duration": 19,
    "start_time": "2023-07-02T15:42:13.427Z"
   },
   {
    "duration": 32,
    "start_time": "2023-07-02T15:42:13.448Z"
   },
   {
    "duration": 37,
    "start_time": "2023-07-02T15:42:13.484Z"
   },
   {
    "duration": 22,
    "start_time": "2023-07-02T15:42:13.524Z"
   },
   {
    "duration": 13,
    "start_time": "2023-07-02T15:42:13.548Z"
   },
   {
    "duration": 12,
    "start_time": "2023-07-02T15:42:13.571Z"
   },
   {
    "duration": 46,
    "start_time": "2023-07-02T15:42:13.585Z"
   },
   {
    "duration": 441,
    "start_time": "2023-07-02T15:42:13.634Z"
   },
   {
    "duration": 473,
    "start_time": "2023-07-02T15:42:14.077Z"
   },
   {
    "duration": 334,
    "start_time": "2023-07-02T15:42:14.552Z"
   },
   {
    "duration": 388,
    "start_time": "2023-07-02T15:42:14.888Z"
   },
   {
    "duration": 367,
    "start_time": "2023-07-02T15:42:15.278Z"
   },
   {
    "duration": 387,
    "start_time": "2023-07-02T15:42:15.647Z"
   },
   {
    "duration": 17,
    "start_time": "2023-07-02T15:42:16.036Z"
   },
   {
    "duration": 190,
    "start_time": "2023-07-02T15:42:16.069Z"
   },
   {
    "duration": 198,
    "start_time": "2023-07-02T15:42:16.261Z"
   },
   {
    "duration": 7,
    "start_time": "2023-07-02T15:42:16.473Z"
   },
   {
    "duration": 17,
    "start_time": "2023-07-02T15:42:16.482Z"
   },
   {
    "duration": 9,
    "start_time": "2023-07-02T15:42:16.501Z"
   },
   {
    "duration": 529,
    "start_time": "2023-07-02T15:42:16.512Z"
   },
   {
    "duration": 250,
    "start_time": "2023-07-02T15:42:17.047Z"
   },
   {
    "duration": 15,
    "start_time": "2023-07-02T15:42:17.299Z"
   },
   {
    "duration": 274,
    "start_time": "2023-07-02T15:42:17.316Z"
   },
   {
    "duration": 173,
    "start_time": "2023-07-02T15:42:17.592Z"
   },
   {
    "duration": 11,
    "start_time": "2023-07-02T15:42:17.773Z"
   },
   {
    "duration": 51,
    "start_time": "2023-07-02T15:42:17.788Z"
   },
   {
    "duration": 17,
    "start_time": "2023-07-02T15:42:17.843Z"
   },
   {
    "duration": 19,
    "start_time": "2023-07-02T15:42:17.863Z"
   },
   {
    "duration": 21,
    "start_time": "2023-07-02T15:42:17.886Z"
   },
   {
    "duration": 105,
    "start_time": "2023-07-02T15:42:17.912Z"
   },
   {
    "duration": 0,
    "start_time": "2023-07-02T15:42:18.024Z"
   },
   {
    "duration": 23,
    "start_time": "2023-07-02T15:42:25.396Z"
   },
   {
    "duration": 1462,
    "start_time": "2023-07-02T18:46:58.861Z"
   },
   {
    "duration": 268,
    "start_time": "2023-07-02T18:47:00.325Z"
   },
   {
    "duration": 14,
    "start_time": "2023-07-02T18:47:00.595Z"
   },
   {
    "duration": 35,
    "start_time": "2023-07-02T18:47:00.612Z"
   },
   {
    "duration": 37,
    "start_time": "2023-07-02T18:47:00.649Z"
   },
   {
    "duration": 41,
    "start_time": "2023-07-02T18:47:00.688Z"
   },
   {
    "duration": 54,
    "start_time": "2023-07-02T18:47:00.732Z"
   },
   {
    "duration": 62,
    "start_time": "2023-07-02T18:47:00.788Z"
   },
   {
    "duration": 85,
    "start_time": "2023-07-02T18:47:00.852Z"
   },
   {
    "duration": 50,
    "start_time": "2023-07-02T18:47:00.941Z"
   },
   {
    "duration": 38,
    "start_time": "2023-07-02T18:47:00.993Z"
   },
   {
    "duration": 61,
    "start_time": "2023-07-02T18:47:01.033Z"
   },
   {
    "duration": 31,
    "start_time": "2023-07-02T18:47:01.096Z"
   },
   {
    "duration": 41,
    "start_time": "2023-07-02T18:47:01.129Z"
   },
   {
    "duration": 366,
    "start_time": "2023-07-02T18:47:01.172Z"
   },
   {
    "duration": 356,
    "start_time": "2023-07-02T18:47:01.541Z"
   },
   {
    "duration": 233,
    "start_time": "2023-07-02T18:47:01.899Z"
   },
   {
    "duration": 422,
    "start_time": "2023-07-02T18:47:02.134Z"
   },
   {
    "duration": 273,
    "start_time": "2023-07-02T18:47:02.558Z"
   },
   {
    "duration": 363,
    "start_time": "2023-07-02T18:47:02.833Z"
   },
   {
    "duration": 13,
    "start_time": "2023-07-02T18:47:03.198Z"
   },
   {
    "duration": 180,
    "start_time": "2023-07-02T18:47:03.213Z"
   },
   {
    "duration": 159,
    "start_time": "2023-07-02T18:47:03.395Z"
   },
   {
    "duration": 14,
    "start_time": "2023-07-02T18:47:03.555Z"
   },
   {
    "duration": 13,
    "start_time": "2023-07-02T18:47:03.571Z"
   },
   {
    "duration": 9,
    "start_time": "2023-07-02T18:47:03.586Z"
   },
   {
    "duration": 464,
    "start_time": "2023-07-02T18:47:03.597Z"
   },
   {
    "duration": 206,
    "start_time": "2023-07-02T18:47:04.068Z"
   },
   {
    "duration": 5,
    "start_time": "2023-07-02T18:47:04.276Z"
   },
   {
    "duration": 241,
    "start_time": "2023-07-02T18:47:04.282Z"
   },
   {
    "duration": 161,
    "start_time": "2023-07-02T18:47:04.525Z"
   },
   {
    "duration": 5,
    "start_time": "2023-07-02T18:47:04.688Z"
   },
   {
    "duration": 48,
    "start_time": "2023-07-02T18:47:04.696Z"
   },
   {
    "duration": 31,
    "start_time": "2023-07-02T18:47:04.746Z"
   },
   {
    "duration": 14,
    "start_time": "2023-07-02T18:47:04.779Z"
   },
   {
    "duration": 11,
    "start_time": "2023-07-02T18:47:04.795Z"
   },
   {
    "duration": 133,
    "start_time": "2023-07-02T18:47:04.809Z"
   },
   {
    "duration": 0,
    "start_time": "2023-07-02T18:47:04.944Z"
   },
   {
    "duration": 47,
    "start_time": "2023-07-02T20:14:41.214Z"
   },
   {
    "duration": 1295,
    "start_time": "2023-07-02T20:14:54.251Z"
   },
   {
    "duration": 260,
    "start_time": "2023-07-02T20:14:55.548Z"
   },
   {
    "duration": 11,
    "start_time": "2023-07-02T20:14:55.812Z"
   },
   {
    "duration": 11,
    "start_time": "2023-07-02T20:14:55.824Z"
   },
   {
    "duration": 7,
    "start_time": "2023-07-02T20:14:55.837Z"
   },
   {
    "duration": 8,
    "start_time": "2023-07-02T20:14:55.846Z"
   },
   {
    "duration": 14,
    "start_time": "2023-07-02T20:14:55.855Z"
   },
   {
    "duration": 29,
    "start_time": "2023-07-02T20:14:55.871Z"
   },
   {
    "duration": 12,
    "start_time": "2023-07-02T20:14:55.904Z"
   },
   {
    "duration": 18,
    "start_time": "2023-07-02T20:14:55.918Z"
   },
   {
    "duration": 12,
    "start_time": "2023-07-02T20:14:55.937Z"
   },
   {
    "duration": 18,
    "start_time": "2023-07-02T20:14:55.951Z"
   },
   {
    "duration": 12,
    "start_time": "2023-07-02T20:14:55.971Z"
   },
   {
    "duration": 19,
    "start_time": "2023-07-02T20:14:55.985Z"
   },
   {
    "duration": 304,
    "start_time": "2023-07-02T20:14:56.006Z"
   },
   {
    "duration": 297,
    "start_time": "2023-07-02T20:14:56.312Z"
   },
   {
    "duration": 196,
    "start_time": "2023-07-02T20:14:56.610Z"
   },
   {
    "duration": 337,
    "start_time": "2023-07-02T20:14:56.808Z"
   },
   {
    "duration": 245,
    "start_time": "2023-07-02T20:14:57.147Z"
   },
   {
    "duration": 305,
    "start_time": "2023-07-02T20:14:57.394Z"
   },
   {
    "duration": 10,
    "start_time": "2023-07-02T20:14:57.701Z"
   },
   {
    "duration": 137,
    "start_time": "2023-07-02T20:14:57.712Z"
   },
   {
    "duration": 160,
    "start_time": "2023-07-02T20:14:57.850Z"
   },
   {
    "duration": 4,
    "start_time": "2023-07-02T20:14:58.012Z"
   },
   {
    "duration": 11,
    "start_time": "2023-07-02T20:14:58.018Z"
   },
   {
    "duration": 8,
    "start_time": "2023-07-02T20:14:58.031Z"
   },
   {
    "duration": 353,
    "start_time": "2023-07-02T20:14:58.042Z"
   },
   {
    "duration": 151,
    "start_time": "2023-07-02T20:14:58.396Z"
   },
   {
    "duration": 4,
    "start_time": "2023-07-02T20:14:58.548Z"
   },
   {
    "duration": 221,
    "start_time": "2023-07-02T20:14:58.554Z"
   },
   {
    "duration": 158,
    "start_time": "2023-07-02T20:14:58.776Z"
   },
   {
    "duration": 4,
    "start_time": "2023-07-02T20:14:58.936Z"
   },
   {
    "duration": 33,
    "start_time": "2023-07-02T20:14:58.942Z"
   },
   {
    "duration": 14,
    "start_time": "2023-07-02T20:14:58.977Z"
   },
   {
    "duration": 12,
    "start_time": "2023-07-02T20:14:58.994Z"
   },
   {
    "duration": 9,
    "start_time": "2023-07-02T20:14:59.007Z"
   },
   {
    "duration": 22,
    "start_time": "2023-07-02T20:14:59.018Z"
   },
   {
    "duration": 12,
    "start_time": "2023-07-02T20:14:59.041Z"
   },
   {
    "duration": 25,
    "start_time": "2023-07-02T20:15:39.059Z"
   },
   {
    "duration": 1064,
    "start_time": "2023-07-02T20:28:43.244Z"
   },
   {
    "duration": 115,
    "start_time": "2023-07-02T20:28:44.310Z"
   },
   {
    "duration": 10,
    "start_time": "2023-07-02T20:28:44.427Z"
   },
   {
    "duration": 10,
    "start_time": "2023-07-02T20:28:44.438Z"
   },
   {
    "duration": 7,
    "start_time": "2023-07-02T20:28:44.450Z"
   },
   {
    "duration": 6,
    "start_time": "2023-07-02T20:28:44.459Z"
   },
   {
    "duration": 13,
    "start_time": "2023-07-02T20:28:44.467Z"
   },
   {
    "duration": 14,
    "start_time": "2023-07-02T20:28:44.482Z"
   },
   {
    "duration": 13,
    "start_time": "2023-07-02T20:28:44.497Z"
   },
   {
    "duration": 16,
    "start_time": "2023-07-02T20:28:44.512Z"
   },
   {
    "duration": 11,
    "start_time": "2023-07-02T20:28:44.530Z"
   },
   {
    "duration": 8,
    "start_time": "2023-07-02T20:28:44.542Z"
   },
   {
    "duration": 7,
    "start_time": "2023-07-02T20:28:44.575Z"
   },
   {
    "duration": 9,
    "start_time": "2023-07-02T20:28:44.584Z"
   },
   {
    "duration": 273,
    "start_time": "2023-07-02T20:28:44.595Z"
   },
   {
    "duration": 272,
    "start_time": "2023-07-02T20:28:44.870Z"
   },
   {
    "duration": 195,
    "start_time": "2023-07-02T20:28:45.144Z"
   },
   {
    "duration": 322,
    "start_time": "2023-07-02T20:28:45.340Z"
   },
   {
    "duration": 200,
    "start_time": "2023-07-02T20:28:45.664Z"
   },
   {
    "duration": 290,
    "start_time": "2023-07-02T20:28:45.866Z"
   },
   {
    "duration": 17,
    "start_time": "2023-07-02T20:28:46.158Z"
   },
   {
    "duration": 120,
    "start_time": "2023-07-02T20:28:46.177Z"
   },
   {
    "duration": 143,
    "start_time": "2023-07-02T20:28:46.299Z"
   },
   {
    "duration": 6,
    "start_time": "2023-07-02T20:28:46.444Z"
   },
   {
    "duration": 24,
    "start_time": "2023-07-02T20:28:46.452Z"
   },
   {
    "duration": 5,
    "start_time": "2023-07-02T20:28:46.477Z"
   },
   {
    "duration": 307,
    "start_time": "2023-07-02T20:28:46.484Z"
   },
   {
    "duration": 145,
    "start_time": "2023-07-02T20:28:46.794Z"
   },
   {
    "duration": 5,
    "start_time": "2023-07-02T20:28:46.940Z"
   },
   {
    "duration": 205,
    "start_time": "2023-07-02T20:28:46.946Z"
   },
   {
    "duration": 127,
    "start_time": "2023-07-02T20:28:47.152Z"
   },
   {
    "duration": 5,
    "start_time": "2023-07-02T20:28:47.281Z"
   },
   {
    "duration": 24,
    "start_time": "2023-07-02T20:28:47.288Z"
   },
   {
    "duration": 9,
    "start_time": "2023-07-02T20:28:47.313Z"
   },
   {
    "duration": 8,
    "start_time": "2023-07-02T20:28:47.324Z"
   },
   {
    "duration": 8,
    "start_time": "2023-07-02T20:28:47.334Z"
   },
   {
    "duration": 21,
    "start_time": "2023-07-02T20:28:47.374Z"
   },
   {
    "duration": 12,
    "start_time": "2023-07-02T20:28:47.397Z"
   },
   {
    "duration": 208,
    "start_time": "2023-07-02T20:34:43.081Z"
   },
   {
    "duration": 1536,
    "start_time": "2023-07-03T08:18:17.965Z"
   },
   {
    "duration": 241,
    "start_time": "2023-07-03T08:18:19.504Z"
   },
   {
    "duration": 13,
    "start_time": "2023-07-03T08:18:19.747Z"
   },
   {
    "duration": 30,
    "start_time": "2023-07-03T08:18:19.763Z"
   },
   {
    "duration": 27,
    "start_time": "2023-07-03T08:18:19.796Z"
   },
   {
    "duration": 22,
    "start_time": "2023-07-03T08:18:19.825Z"
   },
   {
    "duration": 21,
    "start_time": "2023-07-03T08:18:19.849Z"
   },
   {
    "duration": 17,
    "start_time": "2023-07-03T08:18:19.872Z"
   },
   {
    "duration": 35,
    "start_time": "2023-07-03T08:18:19.891Z"
   },
   {
    "duration": 63,
    "start_time": "2023-07-03T08:18:19.929Z"
   },
   {
    "duration": 25,
    "start_time": "2023-07-03T08:18:19.994Z"
   },
   {
    "duration": 44,
    "start_time": "2023-07-03T08:18:20.021Z"
   },
   {
    "duration": 34,
    "start_time": "2023-07-03T08:18:20.066Z"
   },
   {
    "duration": 17,
    "start_time": "2023-07-03T08:18:20.102Z"
   },
   {
    "duration": 334,
    "start_time": "2023-07-03T08:18:20.121Z"
   },
   {
    "duration": 377,
    "start_time": "2023-07-03T08:18:20.457Z"
   },
   {
    "duration": 260,
    "start_time": "2023-07-03T08:18:20.836Z"
   },
   {
    "duration": 423,
    "start_time": "2023-07-03T08:18:21.098Z"
   },
   {
    "duration": 267,
    "start_time": "2023-07-03T08:18:21.523Z"
   },
   {
    "duration": 324,
    "start_time": "2023-07-03T08:18:21.792Z"
   },
   {
    "duration": 13,
    "start_time": "2023-07-03T08:18:22.119Z"
   },
   {
    "duration": 167,
    "start_time": "2023-07-03T08:18:22.134Z"
   },
   {
    "duration": 179,
    "start_time": "2023-07-03T08:18:22.303Z"
   },
   {
    "duration": 6,
    "start_time": "2023-07-03T08:18:22.484Z"
   },
   {
    "duration": 49,
    "start_time": "2023-07-03T08:18:22.491Z"
   },
   {
    "duration": 16,
    "start_time": "2023-07-03T08:18:22.542Z"
   },
   {
    "duration": 395,
    "start_time": "2023-07-03T08:18:22.559Z"
   },
   {
    "duration": 181,
    "start_time": "2023-07-03T08:18:22.958Z"
   },
   {
    "duration": 6,
    "start_time": "2023-07-03T08:18:23.142Z"
   },
   {
    "duration": 301,
    "start_time": "2023-07-03T08:18:23.150Z"
   },
   {
    "duration": 170,
    "start_time": "2023-07-03T08:18:23.453Z"
   },
   {
    "duration": 7,
    "start_time": "2023-07-03T08:18:23.624Z"
   },
   {
    "duration": 58,
    "start_time": "2023-07-03T08:18:23.632Z"
   },
   {
    "duration": 31,
    "start_time": "2023-07-03T08:18:23.692Z"
   },
   {
    "duration": 41,
    "start_time": "2023-07-03T08:18:23.724Z"
   },
   {
    "duration": 10,
    "start_time": "2023-07-03T08:18:23.767Z"
   },
   {
    "duration": 48,
    "start_time": "2023-07-03T08:18:23.779Z"
   },
   {
    "duration": 21,
    "start_time": "2023-07-03T08:18:23.829Z"
   }
  ],
  "kernelspec": {
   "display_name": "Python 3 (ipykernel)",
   "language": "python",
   "name": "python3"
  },
  "language_info": {
   "codemirror_mode": {
    "name": "ipython",
    "version": 3
   },
   "file_extension": ".py",
   "mimetype": "text/x-python",
   "name": "python",
   "nbconvert_exporter": "python",
   "pygments_lexer": "ipython3",
   "version": "3.9.5"
  },
  "toc": {
   "base_numbering": 1,
   "nav_menu": {},
   "number_sections": false,
   "sideBar": true,
   "skip_h1_title": false,
   "title_cell": "Table of Contents",
   "title_sidebar": "Contents",
   "toc_cell": false,
   "toc_position": {
    "height": "calc(100% - 180px)",
    "left": "10px",
    "top": "150px",
    "width": "240.55px"
   },
   "toc_section_display": true,
   "toc_window_display": true
  }
 },
 "nbformat": 4,
 "nbformat_minor": 4
}
